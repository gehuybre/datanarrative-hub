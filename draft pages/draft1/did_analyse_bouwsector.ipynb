{
 "cells": [
  {
   "cell_type": "markdown",
   "id": "25879fff",
   "metadata": {},
   "source": [
    "# Difference-in-Differences Analyse: Bouwsector Oprichtingen\n",
    "\n",
    "Deze notebook voert een difference-in-differences (DiD) analyse uit om het effect van een treatment in 2019 op het aantal bedrijfsoprichtingen in de bouwsector in Vlaanderen te onderzoeken.\n",
    "\n",
    "**Treatment definitie:**\n",
    "- Treatment jaar: 2019\n",
    "- Treatment regio: Vlaams Gewest\n",
    "- Treatment sector: F Bouwnijverheid\n",
    "- Outcome variabele: Aantal oprichtingen"
   ]
  },
  {
   "cell_type": "markdown",
   "id": "da96918d",
   "metadata": {},
   "source": [
    "## 1. Configuratie en Data Setup"
   ]
  },
  {
   "cell_type": "code",
   "execution_count": 72,
   "id": "de4a52ca",
   "metadata": {},
   "outputs": [],
   "source": [
    "# Import benodigde libraries\n",
    "import pandas as pd\n",
    "import numpy as np\n",
    "import matplotlib.pyplot as plt\n",
    "import seaborn as sns\n",
    "import plotly.express as px\n",
    "import plotly.graph_objects as go\n",
    "from plotly.subplots import make_subplots\n",
    "import json\n",
    "from scipy import stats\n",
    "import statsmodels.api as sm\n",
    "from statsmodels.formula.api import ols\n",
    "import warnings\n",
    "warnings.filterwarnings('ignore')\n",
    "\n",
    "# Zet pandas opties voor betere weergave\n",
    "pd.set_option('display.max_columns', None)\n",
    "pd.set_option('display.max_rows', 100)"
   ]
  },
  {
   "cell_type": "code",
   "execution_count": 73,
   "id": "1f7d3348",
   "metadata": {},
   "outputs": [
    {
     "name": "stdout",
     "output_type": "stream",
     "text": [
      "DiD Analyse Configuratie:\n",
      "- Treatment jaar: 2019\n",
      "- Treatment regio: Vlaams Gewest\n",
      "- Treatment sector: F Bouwnijverheid\n",
      "- Outcome variabele: Aantal oprichtingen\n",
      "- Controle regio's: ['Brussels Hoofdstedelijk Gewest', 'Waals Gewest']\n",
      "- Controle sectoren: ALLE SECTOREN behalve bouw (21 sectoren)\n",
      "- Analyse periode: 2015-2022\n",
      "\n",
      "Control sectoren lijst:\n",
      "   1. A Landbouw, bosbouw en visserij\n",
      "   2. B Winning van delfstoffen\n",
      "   3. C Industrie\n",
      "   4. D Productie en distributie van elektriciteit, gas, stoom en gekoelde lucht\n",
      "   5. E Distributie van water/ afval- en afvalwaterbeheer en sanering\n",
      "   6. G Groot- en detailhandel/ reparatie van auto’s en motorfietsen\n",
      "   7. H Vervoer en opslag\n",
      "   8. I Verschaffen van accommodatie en maaltijden\n",
      "   9. J Informatie en communicatie\n",
      "  10. K Financiële activiteiten en verzekeringen\n",
      "  11. L Exploitatie van en handel in onroerend goed\n",
      "  12. M Vrije beroepen en wetenschappelijke en technische activiteiten\n",
      "  13. N Administratieve en ondersteunende diensten\n",
      "  14. O Openbaar bestuur en defensie/ verplichte sociale verzekeringen\n",
      "  15. Onbekende economische activiteit\n",
      "  16. P Onderwijs\n",
      "  17. Q Menselijke gezondheidszorg en maatschappelijke dienstverlening\n",
      "  18. R Kunst, amusement en recreatie\n",
      "  19. S Overige diensten\n",
      "  20. T Huishoudens als werkgever/ niet-gedifferentieerde productie van goederen en diensten door huishoudens voor eigen gebruik\n",
      "  21. U Extraterritoriale organisaties en lichamen\n"
     ]
    }
   ],
   "source": [
    "# CONFIGURATIE PARAMETERS VOOR DiD ANALYSE\n",
    "\n",
    "# Treatment definitie\n",
    "TREATMENT_YEAR = 2019\n",
    "TREATMENT_REGION = \"Vlaams Gewest\"\n",
    "TREATMENT_SECTOR = \"F Bouwnijverheid\"\n",
    "OUTCOME_VARIABLE = \"Aantal oprichtingen\"\n",
    "\n",
    "# Controle groepen\n",
    "CONTROL_REGIONS = [\"Brussels Hoofdstedelijk Gewest\", \"Waals Gewest\"]\n",
    "\n",
    "# Control sectoren: ALLE sectoren behalve bouwsector\n",
    "# Eerst alle sectoren ophalen uit de data\n",
    "all_unique_sectors = sorted([sector for sector in df['Sectie'].unique() if sector is not None])\n",
    "CONTROL_SECTORS = [sector for sector in all_unique_sectors if sector != TREATMENT_SECTOR]\n",
    "\n",
    "# Analyse periode\n",
    "PRE_TREATMENT_YEARS = [2015, 2016, 2017, 2018]\n",
    "POST_TREATMENT_YEARS = [2019, 2020, 2021, 2022]\n",
    "ALL_YEARS = PRE_TREATMENT_YEARS + POST_TREATMENT_YEARS\n",
    "\n",
    "# Data bestand\n",
    "DATA_FILE = \"data/jaar_alle_sectoren.json\"\n",
    "\n",
    "print(f\"DiD Analyse Configuratie:\")\n",
    "print(f\"- Treatment jaar: {TREATMENT_YEAR}\")\n",
    "print(f\"- Treatment regio: {TREATMENT_REGION}\")\n",
    "print(f\"- Treatment sector: {TREATMENT_SECTOR}\")\n",
    "print(f\"- Outcome variabele: {OUTCOME_VARIABLE}\")\n",
    "print(f\"- Controle regio's: {CONTROL_REGIONS}\")\n",
    "print(f\"- Controle sectoren: ALLE SECTOREN behalve bouw ({len(CONTROL_SECTORS)} sectoren)\")\n",
    "print(f\"- Analyse periode: {min(ALL_YEARS)}-{max(ALL_YEARS)}\")\n",
    "\n",
    "print(f\"\\nControl sectoren lijst:\")\n",
    "for i, sector in enumerate(CONTROL_SECTORS, 1):\n",
    "    print(f\"  {i:2d}. {sector}\")"
   ]
  },
  {
   "cell_type": "code",
   "execution_count": 74,
   "id": "8babac68",
   "metadata": {},
   "outputs": [
    {
     "name": "stdout",
     "output_type": "stream",
     "text": [
      "Alle beschikbare sectoren in de data:\n",
      " 1. A Landbouw, bosbouw en visserij\n",
      " 2. B Winning van delfstoffen\n",
      " 3. C Industrie\n",
      " 4. D Productie en distributie van elektriciteit, gas, stoom en gekoelde lucht\n",
      " 5. E Distributie van water/ afval- en afvalwaterbeheer en sanering\n",
      " 6. F Bouwnijverheid\n",
      " 7. G Groot- en detailhandel/ reparatie van auto’s en motorfietsen\n",
      " 8. H Vervoer en opslag\n",
      " 9. I Verschaffen van accommodatie en maaltijden\n",
      "10. J Informatie en communicatie\n",
      "11. K Financiële activiteiten en verzekeringen\n",
      "12. L Exploitatie van en handel in onroerend goed\n",
      "13. M Vrije beroepen en wetenschappelijke en technische activiteiten\n",
      "14. N Administratieve en ondersteunende diensten\n",
      "15. O Openbaar bestuur en defensie/ verplichte sociale verzekeringen\n",
      "16. Onbekende economische activiteit\n",
      "17. P Onderwijs\n",
      "18. Q Menselijke gezondheidszorg en maatschappelijke dienstverlening\n",
      "19. R Kunst, amusement en recreatie\n",
      "20. S Overige diensten\n",
      "21. T Huishoudens als werkgever/ niet-gedifferentieerde productie van goederen en diensten door huishoudens voor eigen gebruik\n",
      "22. U Extraterritoriale organisaties en lichamen\n",
      "\n",
      "Totaal aantal sectoren: 22\n",
      "Treatment sector: F Bouwnijverheid\n",
      "\n",
      "Control sectoren (alle behalve bouw): 21 sectoren\n"
     ]
    }
   ],
   "source": [
    "# Bekijk eerst alle beschikbare sectoren in de data\n",
    "print(\"Alle beschikbare sectoren in de data:\")\n",
    "unique_sectors = sorted([sector for sector in df['Sectie'].unique() if sector is not None])\n",
    "for i, sector in enumerate(unique_sectors, 1):\n",
    "    print(f\"{i:2d}. {sector}\")\n",
    "    \n",
    "print(f\"\\nTotaal aantal sectoren: {len(unique_sectors)}\")\n",
    "print(f\"Treatment sector: {TREATMENT_SECTOR}\")\n",
    "\n",
    "# Definieer control sectoren als alle sectoren behalve bouw\n",
    "control_sectors_all = [sector for sector in unique_sectors if sector != TREATMENT_SECTOR]\n",
    "print(f\"\\nControl sectoren (alle behalve bouw): {len(control_sectors_all)} sectoren\")"
   ]
  },
  {
   "cell_type": "markdown",
   "id": "b2306517",
   "metadata": {},
   "source": [
    "## 2. Data Loading en Preprocessing"
   ]
  },
  {
   "cell_type": "code",
   "execution_count": 75,
   "id": "9fca1c2d",
   "metadata": {},
   "outputs": [
    {
     "name": "stdout",
     "output_type": "stream",
     "text": [
      "Totaal aantal records geladen: 1955\n",
      "Kolommen: ['Alle beschikbare periodes', 'Jaar', 'Gewest', 'Alle economische activiteiten', 'Sectie', 'Aantal btw-plichtige', 'Aantal oprichtingen', 'Aantal schrappingen']\n",
      "\n",
      "Eerste 5 records:\n"
     ]
    },
    {
     "data": {
      "text/html": [
       "<div>\n",
       "<style scoped>\n",
       "    .dataframe tbody tr th:only-of-type {\n",
       "        vertical-align: middle;\n",
       "    }\n",
       "\n",
       "    .dataframe tbody tr th {\n",
       "        vertical-align: top;\n",
       "    }\n",
       "\n",
       "    .dataframe thead th {\n",
       "        text-align: right;\n",
       "    }\n",
       "</style>\n",
       "<table border=\"1\" class=\"dataframe\">\n",
       "  <thead>\n",
       "    <tr style=\"text-align: right;\">\n",
       "      <th></th>\n",
       "      <th>Alle beschikbare periodes</th>\n",
       "      <th>Jaar</th>\n",
       "      <th>Gewest</th>\n",
       "      <th>Alle economische activiteiten</th>\n",
       "      <th>Sectie</th>\n",
       "      <th>Aantal btw-plichtige</th>\n",
       "      <th>Aantal oprichtingen</th>\n",
       "      <th>Aantal schrappingen</th>\n",
       "    </tr>\n",
       "  </thead>\n",
       "  <tbody>\n",
       "    <tr>\n",
       "      <th>0</th>\n",
       "      <td>Alle beschikbare periodes</td>\n",
       "      <td>2008</td>\n",
       "      <td>Vlaams Gewest</td>\n",
       "      <td>Alle economische activiteiten</td>\n",
       "      <td>A Landbouw, bosbouw en visserij</td>\n",
       "      <td>34385.0</td>\n",
       "      <td>1326.0</td>\n",
       "      <td>2193.0</td>\n",
       "    </tr>\n",
       "    <tr>\n",
       "      <th>1</th>\n",
       "      <td>Alle beschikbare periodes</td>\n",
       "      <td>2008</td>\n",
       "      <td>Vlaams Gewest</td>\n",
       "      <td>Alle economische activiteiten</td>\n",
       "      <td>B Winning van delfstoffen</td>\n",
       "      <td>92.0</td>\n",
       "      <td>1.0</td>\n",
       "      <td>7.0</td>\n",
       "    </tr>\n",
       "    <tr>\n",
       "      <th>2</th>\n",
       "      <td>Alle beschikbare periodes</td>\n",
       "      <td>2008</td>\n",
       "      <td>Vlaams Gewest</td>\n",
       "      <td>Alle economische activiteiten</td>\n",
       "      <td>C Industrie</td>\n",
       "      <td>29740.0</td>\n",
       "      <td>1786.0</td>\n",
       "      <td>1502.0</td>\n",
       "    </tr>\n",
       "    <tr>\n",
       "      <th>3</th>\n",
       "      <td>Alle beschikbare periodes</td>\n",
       "      <td>2008</td>\n",
       "      <td>Vlaams Gewest</td>\n",
       "      <td>Alle economische activiteiten</td>\n",
       "      <td>D Productie en distributie van elektriciteit, ...</td>\n",
       "      <td>135.0</td>\n",
       "      <td>19.0</td>\n",
       "      <td>6.0</td>\n",
       "    </tr>\n",
       "    <tr>\n",
       "      <th>4</th>\n",
       "      <td>Alle beschikbare periodes</td>\n",
       "      <td>2008</td>\n",
       "      <td>Vlaams Gewest</td>\n",
       "      <td>Alle economische activiteiten</td>\n",
       "      <td>E Distributie van water/ afval- en afvalwaterb...</td>\n",
       "      <td>837.0</td>\n",
       "      <td>71.0</td>\n",
       "      <td>30.0</td>\n",
       "    </tr>\n",
       "  </tbody>\n",
       "</table>\n",
       "</div>"
      ],
      "text/plain": [
       "   Alle beschikbare periodes  Jaar         Gewest  \\\n",
       "0  Alle beschikbare periodes  2008  Vlaams Gewest   \n",
       "1  Alle beschikbare periodes  2008  Vlaams Gewest   \n",
       "2  Alle beschikbare periodes  2008  Vlaams Gewest   \n",
       "3  Alle beschikbare periodes  2008  Vlaams Gewest   \n",
       "4  Alle beschikbare periodes  2008  Vlaams Gewest   \n",
       "\n",
       "   Alle economische activiteiten  \\\n",
       "0  Alle economische activiteiten   \n",
       "1  Alle economische activiteiten   \n",
       "2  Alle economische activiteiten   \n",
       "3  Alle economische activiteiten   \n",
       "4  Alle economische activiteiten   \n",
       "\n",
       "                                              Sectie  Aantal btw-plichtige  \\\n",
       "0                    A Landbouw, bosbouw en visserij               34385.0   \n",
       "1                          B Winning van delfstoffen                  92.0   \n",
       "2                                        C Industrie               29740.0   \n",
       "3  D Productie en distributie van elektriciteit, ...                 135.0   \n",
       "4  E Distributie van water/ afval- en afvalwaterb...                 837.0   \n",
       "\n",
       "   Aantal oprichtingen  Aantal schrappingen  \n",
       "0               1326.0               2193.0  \n",
       "1                  1.0                  7.0  \n",
       "2               1786.0               1502.0  \n",
       "3                 19.0                  6.0  \n",
       "4                 71.0                 30.0  "
      ]
     },
     "execution_count": 75,
     "metadata": {},
     "output_type": "execute_result"
    }
   ],
   "source": [
    "# Laad de JSON data\n",
    "with open(DATA_FILE, 'r', encoding='utf-8') as f:\n",
    "    data = json.load(f)\n",
    "\n",
    "# Converteer naar DataFrame\n",
    "df = pd.DataFrame(data['facts'])\n",
    "\n",
    "print(f\"Totaal aantal records geladen: {len(df)}\")\n",
    "print(f\"Kolommen: {list(df.columns)}\")\n",
    "print(f\"\\nEerste 5 records:\")\n",
    "df.head()"
   ]
  },
  {
   "cell_type": "code",
   "execution_count": 76,
   "id": "833137df",
   "metadata": {},
   "outputs": [
    {
     "name": "stdout",
     "output_type": "stream",
     "text": [
      "Data na filtering: 525 records\n",
      "Periode: 2015.0-2022.0\n",
      "Regio's: ['Brussels Hoofdstedelijk Gewest', 'Vlaams Gewest', 'Waals Gewest']\n",
      "Sectoren: ['A Landbouw, bosbouw en visserij', 'B Winning van delfstoffen', 'C Industrie', 'D Productie en distributie van elektriciteit, gas, stoom en gekoelde lucht', 'E Distributie van water/ afval- en afvalwaterbeheer en sanering', 'F Bouwnijverheid', 'G Groot- en detailhandel/ reparatie van auto’s en motorfietsen', 'H Vervoer en opslag', 'I Verschaffen van accommodatie en maaltijden', 'J Informatie en communicatie', 'K Financiële activiteiten en verzekeringen', 'L Exploitatie van en handel in onroerend goed', 'M Vrije beroepen en wetenschappelijke en technische activiteiten', 'N Administratieve en ondersteunende diensten', 'O Openbaar bestuur en defensie/ verplichte sociale verzekeringen', 'Onbekende economische activiteit', 'P Onderwijs', 'Q Menselijke gezondheidszorg en maatschappelijke dienstverlening', 'R Kunst, amusement en recreatie', 'S Overige diensten', 'T Huishoudens als werkgever/ niet-gedifferentieerde productie van goederen en diensten door huishoudens voor eigen gebruik', 'U Extraterritoriale organisaties en lichamen']\n"
     ]
    }
   ],
   "source": [
    "# Data preprocessing\n",
    "# Converteer jaar naar numeriek\n",
    "df['Jaar'] = pd.to_numeric(df['Jaar'])\n",
    "\n",
    "# Filter op relevante jaren\n",
    "df_filtered = df[df['Jaar'].isin(ALL_YEARS)].copy()\n",
    "\n",
    "# Filter op relevante regio's (treatment + control)\n",
    "all_regions = [TREATMENT_REGION] + CONTROL_REGIONS\n",
    "df_filtered = df_filtered[df_filtered['Gewest'].isin(all_regions)]\n",
    "\n",
    "# Filter op relevante sectoren (treatment + control)\n",
    "all_sectors = [TREATMENT_SECTOR] + CONTROL_SECTORS\n",
    "df_filtered = df_filtered[df_filtered['Sectie'].isin(all_sectors)]\n",
    "\n",
    "# Verwijder records met missing values in outcome variabele\n",
    "df_filtered = df_filtered.dropna(subset=[OUTCOME_VARIABLE])\n",
    "\n",
    "print(f\"Data na filtering: {len(df_filtered)} records\")\n",
    "print(f\"Periode: {df_filtered['Jaar'].min()}-{df_filtered['Jaar'].max()}\")\n",
    "print(f\"Regio's: {sorted(df_filtered['Gewest'].unique())}\")\n",
    "print(f\"Sectoren: {sorted(df_filtered['Sectie'].unique())}\")"
   ]
  },
  {
   "cell_type": "markdown",
   "id": "548e2436",
   "metadata": {},
   "source": [
    "## 3. Exploratory Data Analysis"
   ]
  },
  {
   "cell_type": "code",
   "execution_count": 77,
   "id": "7f91d5b4",
   "metadata": {},
   "outputs": [
    {
     "name": "stdout",
     "output_type": "stream",
     "text": [
      "Beschrijvende statistieken voor Aantal oprichtingen:\n",
      "count      525.000000\n",
      "mean      1504.710476\n",
      "std       2364.955618\n",
      "min          0.000000\n",
      "25%         27.000000\n",
      "50%        667.000000\n",
      "75%       1895.000000\n",
      "max      14270.000000\n",
      "Name: Aantal oprichtingen, dtype: float64\n",
      "\n",
      "Gemiddeld aantal oprichtingen per regio:\n",
      "                                       mean          std  count\n",
      "Gewest                                                         \n",
      "Brussels Hoofdstedelijk Gewest   541.028409   743.861081    176\n",
      "Vlaams Gewest                   2837.102273  3426.303278    176\n",
      "Waals Gewest                    1129.606936  1274.180889    173\n",
      "\n",
      "Gemiddeld aantal oprichtingen per sector:\n",
      "                                                           mean          std  \\\n",
      "Sectie                                                                         \n",
      "A Landbouw, bosbouw en visserij                      616.625000   442.717872   \n",
      "B Winning van delfstoffen                              3.083333     2.412227   \n",
      "C Industrie                                         1426.000000  1132.936700   \n",
      "D Productie en distributie van elektriciteit, g...    53.458333    44.478602   \n",
      "E Distributie van water/ afval- en afvalwaterbe...    40.625000    29.835509   \n",
      "F Bouwnijverheid                                    4467.291667  3541.942362   \n",
      "G Groot- en detailhandel/ reparatie van auto’s ...  4797.291667  3171.494484   \n",
      "H Vervoer en opslag                                  882.333333   580.234935   \n",
      "I Verschaffen van accommodatie en maaltijden        2010.000000  1254.321157   \n",
      "J Informatie en communicatie                        2023.416667  1297.515181   \n",
      "K Financiële activiteiten en verzekeringen           322.500000   291.377687   \n",
      "L Exploitatie van en handel in onroerend goed        947.333333   635.236599   \n",
      "M Vrije beroepen en wetenschappelijke en techni...  6372.166667  4109.073869   \n",
      "N Administratieve en ondersteunende diensten        2430.958333  1784.835603   \n",
      "O Openbaar bestuur en defensie/ verplichte soci...    15.125000     8.994261   \n",
      "Onbekende economische activiteit                      13.708333    14.997041   \n",
      "P Onderwijs                                         1063.541667   719.853184   \n",
      "Q Menselijke gezondheidszorg en maatschappelijk...  1933.041667  2858.962665   \n",
      "R Kunst, amusement en recreatie                     1259.583333   947.594066   \n",
      "S Overige diensten                                  2228.333333  1765.201323   \n",
      "T Huishoudens als werkgever/ niet-gedifferentie...     8.625000     6.939568   \n",
      "U Extraterritoriale organisaties en lichamen           0.571429     0.810643   \n",
      "\n",
      "                                                    count  \n",
      "Sectie                                                     \n",
      "A Landbouw, bosbouw en visserij                        24  \n",
      "B Winning van delfstoffen                              24  \n",
      "C Industrie                                            24  \n",
      "D Productie en distributie van elektriciteit, g...     24  \n",
      "E Distributie van water/ afval- en afvalwaterbe...     24  \n",
      "F Bouwnijverheid                                       24  \n",
      "G Groot- en detailhandel/ reparatie van auto’s ...     24  \n",
      "H Vervoer en opslag                                    24  \n",
      "I Verschaffen van accommodatie en maaltijden           24  \n",
      "J Informatie en communicatie                           24  \n",
      "K Financiële activiteiten en verzekeringen             24  \n",
      "L Exploitatie van en handel in onroerend goed          24  \n",
      "M Vrije beroepen en wetenschappelijke en techni...     24  \n",
      "N Administratieve en ondersteunende diensten           24  \n",
      "O Openbaar bestuur en defensie/ verplichte soci...     24  \n",
      "Onbekende economische activiteit                       24  \n",
      "P Onderwijs                                            24  \n",
      "Q Menselijke gezondheidszorg en maatschappelijk...     24  \n",
      "R Kunst, amusement en recreatie                        24  \n",
      "S Overige diensten                                     24  \n",
      "T Huishoudens als werkgever/ niet-gedifferentie...     24  \n",
      "U Extraterritoriale organisaties en lichamen           21  \n"
     ]
    }
   ],
   "source": [
    "# Algemene statistieken\n",
    "print(\"Beschrijvende statistieken voor Aantal oprichtingen:\")\n",
    "print(df_filtered[OUTCOME_VARIABLE].describe())\n",
    "\n",
    "# Verdeling per regio\n",
    "print(\"\\nGemiddeld aantal oprichtingen per regio:\")\n",
    "regio_stats = df_filtered.groupby('Gewest')[OUTCOME_VARIABLE].agg(['mean', 'std', 'count'])\n",
    "print(regio_stats)\n",
    "\n",
    "# Verdeling per sector\n",
    "print(\"\\nGemiddeld aantal oprichtingen per sector:\")\n",
    "sector_stats = df_filtered.groupby('Sectie')[OUTCOME_VARIABLE].agg(['mean', 'std', 'count'])\n",
    "print(sector_stats)"
   ]
  },
  {
   "cell_type": "code",
   "execution_count": null,
   "id": "21cbf59e",
   "metadata": {},
   "outputs": [],
   "source": [
    "# Trend analyse over tijd\n",
    "yearly_trends = df_filtered.groupby(['Jaar', 'Gewest', 'Sectie'])[OUTCOME_VARIABLE].sum().reset_index()\n",
    "\n",
    "# Interactieve plot van trends per regio-sector combinatie\n",
    "yearly_trends['Regio_Sector'] = yearly_trends['Gewest'] + ' - ' + yearly_trends['Sectie'].str.split(' ').str[0]\n",
    "\n",
    "fig = px.line(yearly_trends, \n",
    "              x='Jaar', \n",
    "              y=OUTCOME_VARIABLE, \n",
    "              color='Regio_Sector',\n",
    "              title='Trends in Aantal Oprichtingen per Regio-Sector (2015-2022)',\n",
    "              markers=True)\n",
    "\n",
    "# Voeg verticale lijn toe voor treatment jaar\n",
    "fig.add_vline(x=TREATMENT_YEAR, line_dash=\"dash\", line_color=\"red\", \n",
    "              annotation_text=f\"Treatment: {TREATMENT_YEAR}\")\n",
    "\n",
    "fig.update_layout(height=600, width=1000)\n",
    "fig.show()"
   ]
  },
  {
   "cell_type": "markdown",
   "id": "17c2af2f",
   "metadata": {},
   "source": [
    "## 4. Treatment en Control Group Definitie"
   ]
  },
  {
   "cell_type": "code",
   "execution_count": 79,
   "id": "91cdb775",
   "metadata": {},
   "outputs": [
    {
     "name": "stdout",
     "output_type": "stream",
     "text": [
      "DiD Groepen overzicht:\n",
      "                                        Aantal oprichtingen          Jaar  \\\n",
      "                                                       mean count     min   \n",
      "group_label              post_treatment                                     \n",
      "Bru/Wal-Alle sectoren    0                           730.98   165  2015.0   \n",
      "                         1                           790.96   168  2019.0   \n",
      "Bru/Wal-Bouw             0                          2387.62     8  2015.0   \n",
      "                         1                          2256.25     8  2019.0   \n",
      "Vlaanderen-Alle sectoren 0                          2231.83    84  2015.0   \n",
      "                         1                          2878.48    84  2019.0   \n",
      "Vlaanderen-Bouw          0                          6143.00     4  2015.0   \n",
      "                         1                         11373.00     4  2019.0   \n",
      "\n",
      "                                                 \n",
      "                                            max  \n",
      "group_label              post_treatment          \n",
      "Bru/Wal-Alle sectoren    0               2018.0  \n",
      "                         1               2022.0  \n",
      "Bru/Wal-Bouw             0               2018.0  \n",
      "                         1               2022.0  \n",
      "Vlaanderen-Alle sectoren 0               2018.0  \n",
      "                         1               2022.0  \n",
      "Vlaanderen-Bouw          0               2018.0  \n",
      "                         1               2022.0  \n"
     ]
    }
   ],
   "source": [
    "# Creëer indicator variabelen voor DiD analyse\n",
    "df_did = df_filtered.copy()\n",
    "\n",
    "# Post-treatment indicator (na 2019)\n",
    "df_did['post_treatment'] = (df_did['Jaar'] >= TREATMENT_YEAR).astype(int)\n",
    "\n",
    "# Treatment regio indicator (Vlaanderen)\n",
    "df_did['treatment_region'] = (df_did['Gewest'] == TREATMENT_REGION).astype(int)\n",
    "\n",
    "# Treatment sector indicator (Bouw)\n",
    "df_did['treatment_sector'] = (df_did['Sectie'] == TREATMENT_SECTOR).astype(int)\n",
    "\n",
    "# Treatment groep indicator (Vlaanderen EN Bouw)\n",
    "df_did['treatment_group'] = (df_did['treatment_region'] & df_did['treatment_sector']).astype(int)\n",
    "\n",
    "# DiD groepen definiëren\n",
    "def get_group_label(row):\n",
    "    if row['treatment_region'] == 1 and row['treatment_sector'] == 1:\n",
    "        return 'Vlaanderen-Bouw'\n",
    "    elif row['treatment_region'] == 1 and row['treatment_sector'] == 0:\n",
    "        return 'Vlaanderen-Alle sectoren'\n",
    "    elif row['treatment_region'] == 0 and row['treatment_sector'] == 1:\n",
    "        return 'Bru/Wal-Bouw'\n",
    "    else:\n",
    "        return 'Bru/Wal-Alle sectoren'\n",
    "\n",
    "df_did['group_label'] = df_did.apply(get_group_label, axis=1)\n",
    "\n",
    "# Overzicht van groepen\n",
    "print(\"DiD Groepen overzicht:\")\n",
    "group_summary = df_did.groupby(['group_label', 'post_treatment']).agg({\n",
    "    OUTCOME_VARIABLE: ['mean', 'count'],\n",
    "    'Jaar': ['min', 'max']\n",
    "}).round(2)\n",
    "print(group_summary)"
   ]
  },
  {
   "cell_type": "markdown",
   "id": "3157a601",
   "metadata": {},
   "source": [
    "## 5. Difference-in-Differences Analyse"
   ]
  },
  {
   "cell_type": "code",
   "execution_count": 80,
   "id": "69a37df0",
   "metadata": {},
   "outputs": [
    {
     "name": "stdout",
     "output_type": "stream",
     "text": [
      "DiD Gemiddeldes Matrix:\n",
      "Rijen: Treatment Group (0=Control, 1=Treatment)\n",
      "Kolommen: Post Treatment (0=Pre, 1=Post)\n",
      "post_treatment        0         1\n",
      "treatment_group                  \n",
      "0                1273.1   1510.47\n",
      "1                6143.0  11373.00\n",
      "\n",
      "Treatment groep verschil (na - voor): 5230.00\n",
      "Control groep verschil (na - voor): 237.38\n",
      "\n",
      "DiD Effect (Treatment - Control verschil): 4992.62\n",
      "DiD Effect als percentage van baseline: 81.27%\n"
     ]
    }
   ],
   "source": [
    "# Bereken gemiddeldes voor DiD berekening\n",
    "did_means = df_did.groupby(['treatment_group', 'post_treatment'])[OUTCOME_VARIABLE].mean().unstack()\n",
    "\n",
    "print(\"DiD Gemiddeldes Matrix:\")\n",
    "print(\"Rijen: Treatment Group (0=Control, 1=Treatment)\")\n",
    "print(\"Kolommen: Post Treatment (0=Pre, 1=Post)\")\n",
    "print(did_means.round(2))\n",
    "\n",
    "# Bereken de verschillen\n",
    "# Treatment groep: verschil voor vs na\n",
    "treatment_diff = did_means.loc[1, 1] - did_means.loc[1, 0]\n",
    "print(f\"\\nTreatment groep verschil (na - voor): {treatment_diff:.2f}\")\n",
    "\n",
    "# Control groep: verschil voor vs na\n",
    "control_diff = did_means.loc[0, 1] - did_means.loc[0, 0]\n",
    "print(f\"Control groep verschil (na - voor): {control_diff:.2f}\")\n",
    "\n",
    "# DiD effect: verschil van verschillen\n",
    "did_effect = treatment_diff - control_diff\n",
    "print(f\"\\nDiD Effect (Treatment - Control verschil): {did_effect:.2f}\")\n",
    "\n",
    "# Percentage effect\n",
    "baseline_treatment = did_means.loc[1, 0]\n",
    "percentage_effect = (did_effect / baseline_treatment) * 100\n",
    "print(f\"DiD Effect als percentage van baseline: {percentage_effect:.2f}%\")"
   ]
  },
  {
   "cell_type": "code",
   "execution_count": 81,
   "id": "add2f40a",
   "metadata": {},
   "outputs": [
    {
     "name": "stdout",
     "output_type": "stream",
     "text": [
      "DiD Regressie Resultaten:\n",
      "                             OLS Regression Results                            \n",
      "===============================================================================\n",
      "Dep. Variable:     Aantal oprichtingen   R-squared:                       0.167\n",
      "Model:                             OLS   Adj. R-squared:                  0.162\n",
      "Method:                  Least Squares   F-statistic:                     34.81\n",
      "Date:                 Fri, 22 Aug 2025   Prob (F-statistic):           1.61e-20\n",
      "Time:                         11:39:25   Log-Likelihood:                -4775.0\n",
      "No. Observations:                  525   AIC:                             9558.\n",
      "Df Residuals:                      521   BIC:                             9575.\n",
      "Df Model:                            3                                         \n",
      "Covariance Type:             nonrobust                                         \n",
      "====================================================================================\n",
      "                       coef    std err          t      P>|t|      [0.025      0.975]\n",
      "------------------------------------------------------------------------------------\n",
      "const             1273.0973    135.030      9.428      0.000    1007.827    1538.367\n",
      "post_treatment     237.3758    190.410      1.247      0.213    -136.689     611.441\n",
      "treatment_group   4869.9027   1090.738      4.465      0.000    2727.117    7012.688\n",
      "post_x_treatment  4992.6242   1542.468      3.237      0.001    1962.402    8022.846\n",
      "==============================================================================\n",
      "Omnibus:                      364.627   Durbin-Watson:                   1.525\n",
      "Prob(Omnibus):                  0.000   Jarque-Bera (JB):             3769.532\n",
      "Skew:                           3.045   Prob(JB):                         0.00\n",
      "Kurtosis:                      14.629   Cond. No.                         21.4\n",
      "==============================================================================\n",
      "\n",
      "Notes:\n",
      "[1] Standard Errors assume that the covariance matrix of the errors is correctly specified.\n",
      "\n",
      "=== DiD RESULTATEN ===\n",
      "DiD Effect: 4992.62\n",
      "P-waarde: 0.0013\n",
      "95% Betrouwbaarheidsinterval: [1962.40, 8022.85]\n",
      "Significantie: **\n"
     ]
    }
   ],
   "source": [
    "# Regressie analyse voor statistische significantie\n",
    "# DiD regressie: Y = α + β1*Post + β2*Treatment + β3*(Post*Treatment) + ε\n",
    "\n",
    "# Creëer interactie term\n",
    "df_did['post_x_treatment'] = df_did['post_treatment'] * df_did['treatment_group']\n",
    "\n",
    "# Fix voor kolom naam met spaties - gebruik Q() functie\n",
    "from statsmodels.formula.api import ols\n",
    "import statsmodels.formula.api as smf\n",
    "\n",
    "# Alternatief: gebruik directe variabelen in plaats van formula\n",
    "import statsmodels.api as sm\n",
    "\n",
    "# Maak design matrix\n",
    "X = df_did[['post_treatment', 'treatment_group', 'post_x_treatment']]\n",
    "X = sm.add_constant(X)  # voeg intercept toe\n",
    "y = df_did[OUTCOME_VARIABLE]\n",
    "\n",
    "# Fit model\n",
    "model = sm.OLS(y, X).fit()\n",
    "\n",
    "print(\"DiD Regressie Resultaten:\")\n",
    "print(model.summary())\n",
    "\n",
    "# Extract DiD coefficient (β3)\n",
    "did_coefficient = model.params['post_x_treatment']\n",
    "did_pvalue = model.pvalues['post_x_treatment']\n",
    "did_ci = model.conf_int().loc['post_x_treatment']\n",
    "\n",
    "print(f\"\\n=== DiD RESULTATEN ===\")\n",
    "print(f\"DiD Effect: {did_coefficient:.2f}\")\n",
    "print(f\"P-waarde: {did_pvalue:.4f}\")\n",
    "print(f\"95% Betrouwbaarheidsinterval: [{did_ci[0]:.2f}, {did_ci[1]:.2f}]\")\n",
    "print(f\"Significantie: {'***' if did_pvalue < 0.001 else '**' if did_pvalue < 0.01 else '*' if did_pvalue < 0.05 else 'Niet significant'}\")"
   ]
  },
  {
   "cell_type": "markdown",
   "id": "49e8926f",
   "metadata": {},
   "source": [
    "## 6. Visualisatie van Resultaten"
   ]
  },
  {
   "cell_type": "code",
   "execution_count": 82,
   "id": "9df1ecde",
   "metadata": {},
   "outputs": [
    {
     "name": "stdout",
     "output_type": "stream",
     "text": [
      "📊 GEÏNDEXEERDE TREND ANALYSE (Basis: 2015 = 100)\n",
      "==================================================\n",
      "Bru/Wal-Alle sectoren:\n",
      "  Baseline 2015: 653 oprichtingen\n",
      "  Index 2022: 136.5\n",
      "\n",
      "Bru/Wal-Bouw:\n",
      "  Baseline 2015: 2344 oprichtingen\n",
      "  Index 2022: 92.9\n",
      "\n",
      "Vlaanderen-Alle sectoren:\n",
      "  Baseline 2015: 1919 oprichtingen\n",
      "  Index 2022: 175.8\n",
      "\n",
      "Vlaanderen-Bouw:\n",
      "  Baseline 2015: 5465 oprichtingen\n",
      "  Index 2022: 213.5\n",
      "\n"
     ]
    },
    {
     "data": {
      "application/vnd.plotly.v1+json": {
       "config": {
        "plotlyServerURL": "https://plot.ly"
       },
       "data": [
        {
         "hovertemplate": "group_label=Bru/Wal-Alle sectoren<br>Jaar=%{x}<br>Index=%{y}<extra></extra>",
         "legendgroup": "Bru/Wal-Alle sectoren",
         "line": {
          "color": "#636efa",
          "dash": "solid"
         },
         "marker": {
          "symbol": "circle"
         },
         "mode": "lines+markers",
         "name": "Bru/Wal-Alle sectoren",
         "orientation": "v",
         "showlegend": true,
         "type": "scatter",
         "x": {
          "bdata": "AAAAAAB8n0AAAAAAAICfQAAAAAAAhJ9AAAAAAACIn0AAAAAAAIyfQAAAAAAAkJ9AAAAAAACUn0AAAAAAAJifQA==",
          "dtype": "f8"
         },
         "xaxis": "x",
         "y": {
          "bdata": "AAAAAAAAWUA4pa7o4YFcQAKdz/YWO11AAI6lRzI+XUCi7lYWR2NdQAfMHNWRkltASp3ENQMEXkAfG0cmyQ5hQA==",
          "dtype": "f8"
         },
         "yaxis": "y"
        },
        {
         "hovertemplate": "group_label=Bru/Wal-Bouw<br>Jaar=%{x}<br>Index=%{y}<extra></extra>",
         "legendgroup": "Bru/Wal-Bouw",
         "line": {
          "color": "#EF553B",
          "dash": "solid"
         },
         "marker": {
          "symbol": "circle"
         },
         "mode": "lines+markers",
         "name": "Bru/Wal-Bouw",
         "orientation": "v",
         "showlegend": true,
         "type": "scatter",
         "x": {
          "bdata": "AAAAAAB8n0AAAAAAAICfQAAAAAAAhJ9AAAAAAACIn0AAAAAAAIyfQAAAAAAAkJ9AAAAAAACUn0AAAAAAAJifQA==",
          "dtype": "f8"
         },
         "xaxis": "x",
         "y": {
          "bdata": "AAAAAAAAWUAcyQIj0YVZQDLu2XaAMFpAYa/7ALIrWUCoAMzHapNXQF15Dtlmy1dAfnj+I4OxWUD4K7WFkDZXQA==",
          "dtype": "f8"
         },
         "yaxis": "y"
        },
        {
         "hovertemplate": "group_label=Vlaanderen-Alle sectoren<br>Jaar=%{x}<br>Index=%{y}<extra></extra>",
         "legendgroup": "Vlaanderen-Alle sectoren",
         "line": {
          "color": "#00cc96",
          "dash": "solid"
         },
         "marker": {
          "symbol": "circle"
         },
         "mode": "lines+markers",
         "name": "Vlaanderen-Alle sectoren",
         "orientation": "v",
         "showlegend": true,
         "type": "scatter",
         "x": {
          "bdata": "AAAAAAB8n0AAAAAAAICfQAAAAAAAhJ9AAAAAAACIn0AAAAAAAIyfQAAAAAAAkJ9AAAAAAACUn0AAAAAAAJifQA==",
          "dtype": "f8"
         },
         "xaxis": "x",
         "y": {
          "bdata": "AAAAAAAAWUCOWIWyA6pdQHnFm3g/EV5AZivQAICTX0AqfXpXxtNgQMQmmp9VSmFAf1NBjV3qYkDkqgzGUfhlQA==",
          "dtype": "f8"
         },
         "yaxis": "y"
        },
        {
         "hovertemplate": "group_label=Vlaanderen-Bouw<br>Jaar=%{x}<br>Index=%{y}<extra></extra>",
         "legendgroup": "Vlaanderen-Bouw",
         "line": {
          "color": "#ab63fa",
          "dash": "solid"
         },
         "marker": {
          "symbol": "circle"
         },
         "mode": "lines+markers",
         "name": "Vlaanderen-Bouw",
         "orientation": "v",
         "showlegend": true,
         "type": "scatter",
         "x": {
          "bdata": "AAAAAAB8n0AAAAAAAICfQAAAAAAAhJ9AAAAAAACIn0AAAAAAAIyfQAAAAAAAkJ9AAAAAAACUn0AAAAAAAJifQA==",
          "dtype": "f8"
         },
         "xaxis": "x",
         "y": {
          "bdata": "AAAAAAAAWUCxgqoInwVbQBNJKES5VVxACNO/6VIGYEBh+jddyqBmQI5uCCx00GlA2lPSZjXsbEAQ/zO6IbBqQA==",
          "dtype": "f8"
         },
         "yaxis": "y"
        }
       ],
       "layout": {
        "annotations": [
         {
          "showarrow": false,
          "text": "Baseline (2015 = 100)",
          "x": 1,
          "xanchor": "right",
          "xref": "x domain",
          "y": 100,
          "yanchor": "bottom",
          "yref": "y"
         },
         {
          "showarrow": false,
          "text": "Treatment Start",
          "x": 2019,
          "xanchor": "left",
          "xref": "x",
          "y": 1,
          "yanchor": "top",
          "yref": "y domain"
         }
        ],
        "height": 600,
        "legend": {
         "title": {
          "text": "DiD Groepen"
         },
         "tracegroupgap": 0
        },
        "shapes": [
         {
          "line": {
           "color": "gray",
           "dash": "dot"
          },
          "type": "line",
          "x0": 0,
          "x1": 1,
          "xref": "x domain",
          "y0": 100,
          "y1": 100,
          "yref": "y"
         },
         {
          "line": {
           "color": "red",
           "dash": "dash"
          },
          "type": "line",
          "x0": 2019,
          "x1": 2019,
          "xref": "x",
          "y0": 0,
          "y1": 1,
          "yref": "y domain"
         }
        ],
        "template": {
         "data": {
          "bar": [
           {
            "error_x": {
             "color": "#2a3f5f"
            },
            "error_y": {
             "color": "#2a3f5f"
            },
            "marker": {
             "line": {
              "color": "#E5ECF6",
              "width": 0.5
             },
             "pattern": {
              "fillmode": "overlay",
              "size": 10,
              "solidity": 0.2
             }
            },
            "type": "bar"
           }
          ],
          "barpolar": [
           {
            "marker": {
             "line": {
              "color": "#E5ECF6",
              "width": 0.5
             },
             "pattern": {
              "fillmode": "overlay",
              "size": 10,
              "solidity": 0.2
             }
            },
            "type": "barpolar"
           }
          ],
          "carpet": [
           {
            "aaxis": {
             "endlinecolor": "#2a3f5f",
             "gridcolor": "white",
             "linecolor": "white",
             "minorgridcolor": "white",
             "startlinecolor": "#2a3f5f"
            },
            "baxis": {
             "endlinecolor": "#2a3f5f",
             "gridcolor": "white",
             "linecolor": "white",
             "minorgridcolor": "white",
             "startlinecolor": "#2a3f5f"
            },
            "type": "carpet"
           }
          ],
          "choropleth": [
           {
            "colorbar": {
             "outlinewidth": 0,
             "ticks": ""
            },
            "type": "choropleth"
           }
          ],
          "contour": [
           {
            "colorbar": {
             "outlinewidth": 0,
             "ticks": ""
            },
            "colorscale": [
             [
              0,
              "#0d0887"
             ],
             [
              0.1111111111111111,
              "#46039f"
             ],
             [
              0.2222222222222222,
              "#7201a8"
             ],
             [
              0.3333333333333333,
              "#9c179e"
             ],
             [
              0.4444444444444444,
              "#bd3786"
             ],
             [
              0.5555555555555556,
              "#d8576b"
             ],
             [
              0.6666666666666666,
              "#ed7953"
             ],
             [
              0.7777777777777778,
              "#fb9f3a"
             ],
             [
              0.8888888888888888,
              "#fdca26"
             ],
             [
              1,
              "#f0f921"
             ]
            ],
            "type": "contour"
           }
          ],
          "contourcarpet": [
           {
            "colorbar": {
             "outlinewidth": 0,
             "ticks": ""
            },
            "type": "contourcarpet"
           }
          ],
          "heatmap": [
           {
            "colorbar": {
             "outlinewidth": 0,
             "ticks": ""
            },
            "colorscale": [
             [
              0,
              "#0d0887"
             ],
             [
              0.1111111111111111,
              "#46039f"
             ],
             [
              0.2222222222222222,
              "#7201a8"
             ],
             [
              0.3333333333333333,
              "#9c179e"
             ],
             [
              0.4444444444444444,
              "#bd3786"
             ],
             [
              0.5555555555555556,
              "#d8576b"
             ],
             [
              0.6666666666666666,
              "#ed7953"
             ],
             [
              0.7777777777777778,
              "#fb9f3a"
             ],
             [
              0.8888888888888888,
              "#fdca26"
             ],
             [
              1,
              "#f0f921"
             ]
            ],
            "type": "heatmap"
           }
          ],
          "histogram": [
           {
            "marker": {
             "pattern": {
              "fillmode": "overlay",
              "size": 10,
              "solidity": 0.2
             }
            },
            "type": "histogram"
           }
          ],
          "histogram2d": [
           {
            "colorbar": {
             "outlinewidth": 0,
             "ticks": ""
            },
            "colorscale": [
             [
              0,
              "#0d0887"
             ],
             [
              0.1111111111111111,
              "#46039f"
             ],
             [
              0.2222222222222222,
              "#7201a8"
             ],
             [
              0.3333333333333333,
              "#9c179e"
             ],
             [
              0.4444444444444444,
              "#bd3786"
             ],
             [
              0.5555555555555556,
              "#d8576b"
             ],
             [
              0.6666666666666666,
              "#ed7953"
             ],
             [
              0.7777777777777778,
              "#fb9f3a"
             ],
             [
              0.8888888888888888,
              "#fdca26"
             ],
             [
              1,
              "#f0f921"
             ]
            ],
            "type": "histogram2d"
           }
          ],
          "histogram2dcontour": [
           {
            "colorbar": {
             "outlinewidth": 0,
             "ticks": ""
            },
            "colorscale": [
             [
              0,
              "#0d0887"
             ],
             [
              0.1111111111111111,
              "#46039f"
             ],
             [
              0.2222222222222222,
              "#7201a8"
             ],
             [
              0.3333333333333333,
              "#9c179e"
             ],
             [
              0.4444444444444444,
              "#bd3786"
             ],
             [
              0.5555555555555556,
              "#d8576b"
             ],
             [
              0.6666666666666666,
              "#ed7953"
             ],
             [
              0.7777777777777778,
              "#fb9f3a"
             ],
             [
              0.8888888888888888,
              "#fdca26"
             ],
             [
              1,
              "#f0f921"
             ]
            ],
            "type": "histogram2dcontour"
           }
          ],
          "mesh3d": [
           {
            "colorbar": {
             "outlinewidth": 0,
             "ticks": ""
            },
            "type": "mesh3d"
           }
          ],
          "parcoords": [
           {
            "line": {
             "colorbar": {
              "outlinewidth": 0,
              "ticks": ""
             }
            },
            "type": "parcoords"
           }
          ],
          "pie": [
           {
            "automargin": true,
            "type": "pie"
           }
          ],
          "scatter": [
           {
            "fillpattern": {
             "fillmode": "overlay",
             "size": 10,
             "solidity": 0.2
            },
            "type": "scatter"
           }
          ],
          "scatter3d": [
           {
            "line": {
             "colorbar": {
              "outlinewidth": 0,
              "ticks": ""
             }
            },
            "marker": {
             "colorbar": {
              "outlinewidth": 0,
              "ticks": ""
             }
            },
            "type": "scatter3d"
           }
          ],
          "scattercarpet": [
           {
            "marker": {
             "colorbar": {
              "outlinewidth": 0,
              "ticks": ""
             }
            },
            "type": "scattercarpet"
           }
          ],
          "scattergeo": [
           {
            "marker": {
             "colorbar": {
              "outlinewidth": 0,
              "ticks": ""
             }
            },
            "type": "scattergeo"
           }
          ],
          "scattergl": [
           {
            "marker": {
             "colorbar": {
              "outlinewidth": 0,
              "ticks": ""
             }
            },
            "type": "scattergl"
           }
          ],
          "scattermap": [
           {
            "marker": {
             "colorbar": {
              "outlinewidth": 0,
              "ticks": ""
             }
            },
            "type": "scattermap"
           }
          ],
          "scattermapbox": [
           {
            "marker": {
             "colorbar": {
              "outlinewidth": 0,
              "ticks": ""
             }
            },
            "type": "scattermapbox"
           }
          ],
          "scatterpolar": [
           {
            "marker": {
             "colorbar": {
              "outlinewidth": 0,
              "ticks": ""
             }
            },
            "type": "scatterpolar"
           }
          ],
          "scatterpolargl": [
           {
            "marker": {
             "colorbar": {
              "outlinewidth": 0,
              "ticks": ""
             }
            },
            "type": "scatterpolargl"
           }
          ],
          "scatterternary": [
           {
            "marker": {
             "colorbar": {
              "outlinewidth": 0,
              "ticks": ""
             }
            },
            "type": "scatterternary"
           }
          ],
          "surface": [
           {
            "colorbar": {
             "outlinewidth": 0,
             "ticks": ""
            },
            "colorscale": [
             [
              0,
              "#0d0887"
             ],
             [
              0.1111111111111111,
              "#46039f"
             ],
             [
              0.2222222222222222,
              "#7201a8"
             ],
             [
              0.3333333333333333,
              "#9c179e"
             ],
             [
              0.4444444444444444,
              "#bd3786"
             ],
             [
              0.5555555555555556,
              "#d8576b"
             ],
             [
              0.6666666666666666,
              "#ed7953"
             ],
             [
              0.7777777777777778,
              "#fb9f3a"
             ],
             [
              0.8888888888888888,
              "#fdca26"
             ],
             [
              1,
              "#f0f921"
             ]
            ],
            "type": "surface"
           }
          ],
          "table": [
           {
            "cells": {
             "fill": {
              "color": "#EBF0F8"
             },
             "line": {
              "color": "white"
             }
            },
            "header": {
             "fill": {
              "color": "#C8D4E3"
             },
             "line": {
              "color": "white"
             }
            },
            "type": "table"
           }
          ]
         },
         "layout": {
          "annotationdefaults": {
           "arrowcolor": "#2a3f5f",
           "arrowhead": 0,
           "arrowwidth": 1
          },
          "autotypenumbers": "strict",
          "coloraxis": {
           "colorbar": {
            "outlinewidth": 0,
            "ticks": ""
           }
          },
          "colorscale": {
           "diverging": [
            [
             0,
             "#8e0152"
            ],
            [
             0.1,
             "#c51b7d"
            ],
            [
             0.2,
             "#de77ae"
            ],
            [
             0.3,
             "#f1b6da"
            ],
            [
             0.4,
             "#fde0ef"
            ],
            [
             0.5,
             "#f7f7f7"
            ],
            [
             0.6,
             "#e6f5d0"
            ],
            [
             0.7,
             "#b8e186"
            ],
            [
             0.8,
             "#7fbc41"
            ],
            [
             0.9,
             "#4d9221"
            ],
            [
             1,
             "#276419"
            ]
           ],
           "sequential": [
            [
             0,
             "#0d0887"
            ],
            [
             0.1111111111111111,
             "#46039f"
            ],
            [
             0.2222222222222222,
             "#7201a8"
            ],
            [
             0.3333333333333333,
             "#9c179e"
            ],
            [
             0.4444444444444444,
             "#bd3786"
            ],
            [
             0.5555555555555556,
             "#d8576b"
            ],
            [
             0.6666666666666666,
             "#ed7953"
            ],
            [
             0.7777777777777778,
             "#fb9f3a"
            ],
            [
             0.8888888888888888,
             "#fdca26"
            ],
            [
             1,
             "#f0f921"
            ]
           ],
           "sequentialminus": [
            [
             0,
             "#0d0887"
            ],
            [
             0.1111111111111111,
             "#46039f"
            ],
            [
             0.2222222222222222,
             "#7201a8"
            ],
            [
             0.3333333333333333,
             "#9c179e"
            ],
            [
             0.4444444444444444,
             "#bd3786"
            ],
            [
             0.5555555555555556,
             "#d8576b"
            ],
            [
             0.6666666666666666,
             "#ed7953"
            ],
            [
             0.7777777777777778,
             "#fb9f3a"
            ],
            [
             0.8888888888888888,
             "#fdca26"
            ],
            [
             1,
             "#f0f921"
            ]
           ]
          },
          "colorway": [
           "#636efa",
           "#EF553B",
           "#00cc96",
           "#ab63fa",
           "#FFA15A",
           "#19d3f3",
           "#FF6692",
           "#B6E880",
           "#FF97FF",
           "#FECB52"
          ],
          "font": {
           "color": "#2a3f5f"
          },
          "geo": {
           "bgcolor": "white",
           "lakecolor": "white",
           "landcolor": "#E5ECF6",
           "showlakes": true,
           "showland": true,
           "subunitcolor": "white"
          },
          "hoverlabel": {
           "align": "left"
          },
          "hovermode": "closest",
          "mapbox": {
           "style": "light"
          },
          "paper_bgcolor": "white",
          "plot_bgcolor": "#E5ECF6",
          "polar": {
           "angularaxis": {
            "gridcolor": "white",
            "linecolor": "white",
            "ticks": ""
           },
           "bgcolor": "#E5ECF6",
           "radialaxis": {
            "gridcolor": "white",
            "linecolor": "white",
            "ticks": ""
           }
          },
          "scene": {
           "xaxis": {
            "backgroundcolor": "#E5ECF6",
            "gridcolor": "white",
            "gridwidth": 2,
            "linecolor": "white",
            "showbackground": true,
            "ticks": "",
            "zerolinecolor": "white"
           },
           "yaxis": {
            "backgroundcolor": "#E5ECF6",
            "gridcolor": "white",
            "gridwidth": 2,
            "linecolor": "white",
            "showbackground": true,
            "ticks": "",
            "zerolinecolor": "white"
           },
           "zaxis": {
            "backgroundcolor": "#E5ECF6",
            "gridcolor": "white",
            "gridwidth": 2,
            "linecolor": "white",
            "showbackground": true,
            "ticks": "",
            "zerolinecolor": "white"
           }
          },
          "shapedefaults": {
           "line": {
            "color": "#2a3f5f"
           }
          },
          "ternary": {
           "aaxis": {
            "gridcolor": "white",
            "linecolor": "white",
            "ticks": ""
           },
           "baxis": {
            "gridcolor": "white",
            "linecolor": "white",
            "ticks": ""
           },
           "bgcolor": "#E5ECF6",
           "caxis": {
            "gridcolor": "white",
            "linecolor": "white",
            "ticks": ""
           }
          },
          "title": {
           "x": 0.05
          },
          "xaxis": {
           "automargin": true,
           "gridcolor": "white",
           "linecolor": "white",
           "ticks": "",
           "title": {
            "standoff": 15
           },
           "zerolinecolor": "white",
           "zerolinewidth": 2
          },
          "yaxis": {
           "automargin": true,
           "gridcolor": "white",
           "linecolor": "white",
           "ticks": "",
           "title": {
            "standoff": 15
           },
           "zerolinecolor": "white",
           "zerolinewidth": 2
          }
         }
        },
        "title": {
         "text": "DiD Analyse: Geïndexeerde Trends (Basis: 2015 = 100)"
        },
        "width": 1000,
        "xaxis": {
         "anchor": "y",
         "domain": [
          0,
          1
         ],
         "title": {
          "text": "Jaar"
         }
        },
        "yaxis": {
         "anchor": "x",
         "domain": [
          0,
          1
         ],
         "title": {
          "text": "Index (2015 = 100)"
         }
        }
       }
      }
     },
     "metadata": {},
     "output_type": "display_data"
    },
    {
     "name": "stdout",
     "output_type": "stream",
     "text": [
      "📈 RELATIEVE VERANDERINGEN (2015 → 2022):\n",
      "=============================================\n",
      "📈 Bru/Wal-Alle sectoren:\n",
      "    100 → 136.5 (+36.5 punten)\n",
      "\n",
      "📉 Bru/Wal-Bouw:\n",
      "    100 → 92.9 (-7.1 punten)\n",
      "\n",
      "📈 Vlaanderen-Alle sectoren:\n",
      "    100 → 175.8 (+75.8 punten)\n",
      "\n",
      "📈 Vlaanderen-Bouw:\n",
      "    100 → 213.5 (+113.5 punten)\n",
      "\n"
     ]
    }
   ],
   "source": [
    "# 1. Trend lijnen voor alle groepen - GEÏNDEXEERD (Basis 100 = 2015)\n",
    "group_trends = df_did.groupby(['Jaar', 'group_label'])[OUTCOME_VARIABLE].mean().reset_index()\n",
    "\n",
    "print(\"📊 GEÏNDEXEERDE TREND ANALYSE (Basis: 2015 = 100)\")\n",
    "print(\"=\" * 50)\n",
    "\n",
    "# Bereken index voor elke groep (2015 = 100)\n",
    "group_trends_indexed = group_trends.copy()\n",
    "base_year = min(ALL_YEARS)  # 2015\n",
    "\n",
    "# Voor elke groep, bereken de index\n",
    "for group in group_trends['group_label'].unique():\n",
    "    group_data = group_trends[group_trends['group_label'] == group].copy()\n",
    "    \n",
    "    # Vind baseline waarde (2015)\n",
    "    baseline = group_data[group_data['Jaar'] == base_year][OUTCOME_VARIABLE].iloc[0]\n",
    "    \n",
    "    # Bereken index (basis 100)\n",
    "    group_mask = group_trends_indexed['group_label'] == group\n",
    "    group_trends_indexed.loc[group_mask, 'Index'] = (group_trends_indexed.loc[group_mask, OUTCOME_VARIABLE] / baseline) * 100\n",
    "    \n",
    "    print(f\"{group}:\")\n",
    "    print(f\"  Baseline 2015: {baseline:.0f} oprichtingen\")\n",
    "    print(f\"  Index 2022: {group_trends_indexed.loc[group_mask & (group_trends_indexed['Jaar'] == max(ALL_YEARS)), 'Index'].iloc[0]:.1f}\")\n",
    "    print()\n",
    "\n",
    "# Maak de geïndexeerde grafiek\n",
    "fig1_indexed = px.line(group_trends_indexed, \n",
    "                      x='Jaar', \n",
    "                      y='Index', \n",
    "                      color='group_label',\n",
    "                      title=f'DiD Analyse: Geïndexeerde Trends (Basis: {base_year} = 100)',\n",
    "                      markers=True)\n",
    "\n",
    "# Voeg horizontale lijn toe voor baseline\n",
    "fig1_indexed.add_hline(y=100, line_dash=\"dot\", line_color=\"gray\", \n",
    "                      annotation_text=\"Baseline (2015 = 100)\")\n",
    "\n",
    "# Voeg verticale lijn toe voor treatment\n",
    "fig1_indexed.add_vline(x=TREATMENT_YEAR, line_dash=\"dash\", line_color=\"red\", \n",
    "                      annotation_text=\"Treatment Start\")\n",
    "\n",
    "# Update layout\n",
    "fig1_indexed.update_layout(\n",
    "    height=600, \n",
    "    width=1000,\n",
    "    yaxis_title=\"Index (2015 = 100)\",\n",
    "    xaxis_title=\"Jaar\",\n",
    "    legend_title=\"DiD Groepen\"\n",
    ")\n",
    "\n",
    "# Voeg annotaties toe voor beter begrip\n",
    "\n",
    "\n",
    "fig1_indexed.show()\n",
    "\n",
    "# Bereken de relatieve veranderingen\n",
    "print(f\"📈 RELATIEVE VERANDERINGEN (2015 → 2022):\")\n",
    "print(\"=\" * 45)\n",
    "for group in group_trends_indexed['group_label'].unique():\n",
    "    group_data = group_trends_indexed[group_trends_indexed['group_label'] == group]\n",
    "    start_index = group_data[group_data['Jaar'] == base_year]['Index'].iloc[0]\n",
    "    end_index = group_data[group_data['Jaar'] == max(ALL_YEARS)]['Index'].iloc[0]\n",
    "    growth = end_index - start_index\n",
    "    \n",
    "    trend_symbol = \"📈\" if growth > 0 else \"📉\" if growth < 0 else \"➡️\"\n",
    "    print(f\"{trend_symbol} {group}:\")\n",
    "    print(f\"    {start_index:.0f} → {end_index:.1f} ({growth:+.1f} punten)\")\n",
    "    print()"
   ]
  },
  {
   "cell_type": "code",
   "execution_count": 83,
   "id": "764c35cd",
   "metadata": {},
   "outputs": [
    {
     "name": "stdout",
     "output_type": "stream",
     "text": [
      "📊 VOOR/NA VERGELIJKING - GEÏNDEXEERD (Basis: Voor = 100)\n",
      "=======================================================\n",
      "📈 Bru/Wal-Alle sectoren:\n",
      "    Voor: 100 | Na: 108.2 | Verschil: +8.2 punten\n",
      "📉 Bru/Wal-Bouw:\n",
      "    Voor: 100 | Na: 94.5 | Verschil: -5.5 punten\n",
      "📈 Vlaanderen-Alle sectoren:\n",
      "    Voor: 100 | Na: 129.0 | Verschil: +29.0 punten\n",
      "📈 Vlaanderen-Bouw:\n",
      "    Voor: 100 | Na: 185.1 | Verschil: +85.1 punten\n"
     ]
    },
    {
     "data": {
      "application/vnd.plotly.v1+json": {
       "config": {
        "plotlyServerURL": "https://plot.ly"
       },
       "data": [
        {
         "alignmentgroup": "True",
         "hovertemplate": "Periode=Voor Treatment (2015-2018)<br>group_label=%{x}<br>Index=%{y}<extra></extra>",
         "legendgroup": "Voor Treatment (2015-2018)",
         "marker": {
          "color": "lightblue",
          "pattern": {
           "shape": ""
          }
         },
         "name": "Voor Treatment (2015-2018)",
         "offsetgroup": "Voor Treatment (2015-2018)",
         "orientation": "v",
         "showlegend": true,
         "textposition": "auto",
         "type": "bar",
         "x": [
          "Bru/Wal-Alle sectoren",
          "Bru/Wal-Bouw",
          "Vlaanderen-Alle sectoren",
          "Vlaanderen-Bouw"
         ],
         "xaxis": "x",
         "y": {
          "bdata": "AAAAAAAAWUAAAAAAAABZQAAAAAAAAFlAAAAAAAAAWUA=",
          "dtype": "f8"
         },
         "yaxis": "y"
        },
        {
         "alignmentgroup": "True",
         "hovertemplate": "Periode=Na Treatment (2019-2022)<br>group_label=%{x}<br>Index=%{y}<extra></extra>",
         "legendgroup": "Na Treatment (2019-2022)",
         "marker": {
          "color": "darkblue",
          "pattern": {
           "shape": ""
          }
         },
         "name": "Na Treatment (2019-2022)",
         "offsetgroup": "Na Treatment (2019-2022)",
         "orientation": "v",
         "showlegend": true,
         "textposition": "auto",
         "type": "bar",
         "x": [
          "Bru/Wal-Alle sectoren",
          "Bru/Wal-Bouw",
          "Vlaanderen-Alle sectoren",
          "Vlaanderen-Bouw"
         ],
         "xaxis": "x",
         "y": {
          "bdata": "JYGcMywNW0CSK3HU2Z9XQK0bQeAnH2BAmWae2WYkZ0A=",
          "dtype": "f8"
         },
         "yaxis": "y"
        }
       ],
       "layout": {
        "annotations": [
         {
          "showarrow": false,
          "text": "Baseline (Voor = 100)",
          "x": 1,
          "xanchor": "right",
          "xref": "x domain",
          "y": 100,
          "yanchor": "bottom",
          "yref": "y"
         },
         {
          "arrowcolor": "red",
          "arrowhead": 2,
          "arrowwidth": 2,
          "font": {
           "color": "red",
           "size": 12
          },
          "showarrow": true,
          "text": "🎯 TREATMENT GROEP",
          "x": "Vlaanderen-Bouw",
          "y": 250
         }
        ],
        "barmode": "group",
        "height": 500,
        "legend": {
         "title": {
          "text": "Periode"
         },
         "tracegroupgap": 0
        },
        "shapes": [
         {
          "line": {
           "color": "gray",
           "dash": "dot"
          },
          "type": "line",
          "x0": 0,
          "x1": 1,
          "xref": "x domain",
          "y0": 100,
          "y1": 100,
          "yref": "y"
         }
        ],
        "template": {
         "data": {
          "bar": [
           {
            "error_x": {
             "color": "#2a3f5f"
            },
            "error_y": {
             "color": "#2a3f5f"
            },
            "marker": {
             "line": {
              "color": "#E5ECF6",
              "width": 0.5
             },
             "pattern": {
              "fillmode": "overlay",
              "size": 10,
              "solidity": 0.2
             }
            },
            "type": "bar"
           }
          ],
          "barpolar": [
           {
            "marker": {
             "line": {
              "color": "#E5ECF6",
              "width": 0.5
             },
             "pattern": {
              "fillmode": "overlay",
              "size": 10,
              "solidity": 0.2
             }
            },
            "type": "barpolar"
           }
          ],
          "carpet": [
           {
            "aaxis": {
             "endlinecolor": "#2a3f5f",
             "gridcolor": "white",
             "linecolor": "white",
             "minorgridcolor": "white",
             "startlinecolor": "#2a3f5f"
            },
            "baxis": {
             "endlinecolor": "#2a3f5f",
             "gridcolor": "white",
             "linecolor": "white",
             "minorgridcolor": "white",
             "startlinecolor": "#2a3f5f"
            },
            "type": "carpet"
           }
          ],
          "choropleth": [
           {
            "colorbar": {
             "outlinewidth": 0,
             "ticks": ""
            },
            "type": "choropleth"
           }
          ],
          "contour": [
           {
            "colorbar": {
             "outlinewidth": 0,
             "ticks": ""
            },
            "colorscale": [
             [
              0,
              "#0d0887"
             ],
             [
              0.1111111111111111,
              "#46039f"
             ],
             [
              0.2222222222222222,
              "#7201a8"
             ],
             [
              0.3333333333333333,
              "#9c179e"
             ],
             [
              0.4444444444444444,
              "#bd3786"
             ],
             [
              0.5555555555555556,
              "#d8576b"
             ],
             [
              0.6666666666666666,
              "#ed7953"
             ],
             [
              0.7777777777777778,
              "#fb9f3a"
             ],
             [
              0.8888888888888888,
              "#fdca26"
             ],
             [
              1,
              "#f0f921"
             ]
            ],
            "type": "contour"
           }
          ],
          "contourcarpet": [
           {
            "colorbar": {
             "outlinewidth": 0,
             "ticks": ""
            },
            "type": "contourcarpet"
           }
          ],
          "heatmap": [
           {
            "colorbar": {
             "outlinewidth": 0,
             "ticks": ""
            },
            "colorscale": [
             [
              0,
              "#0d0887"
             ],
             [
              0.1111111111111111,
              "#46039f"
             ],
             [
              0.2222222222222222,
              "#7201a8"
             ],
             [
              0.3333333333333333,
              "#9c179e"
             ],
             [
              0.4444444444444444,
              "#bd3786"
             ],
             [
              0.5555555555555556,
              "#d8576b"
             ],
             [
              0.6666666666666666,
              "#ed7953"
             ],
             [
              0.7777777777777778,
              "#fb9f3a"
             ],
             [
              0.8888888888888888,
              "#fdca26"
             ],
             [
              1,
              "#f0f921"
             ]
            ],
            "type": "heatmap"
           }
          ],
          "histogram": [
           {
            "marker": {
             "pattern": {
              "fillmode": "overlay",
              "size": 10,
              "solidity": 0.2
             }
            },
            "type": "histogram"
           }
          ],
          "histogram2d": [
           {
            "colorbar": {
             "outlinewidth": 0,
             "ticks": ""
            },
            "colorscale": [
             [
              0,
              "#0d0887"
             ],
             [
              0.1111111111111111,
              "#46039f"
             ],
             [
              0.2222222222222222,
              "#7201a8"
             ],
             [
              0.3333333333333333,
              "#9c179e"
             ],
             [
              0.4444444444444444,
              "#bd3786"
             ],
             [
              0.5555555555555556,
              "#d8576b"
             ],
             [
              0.6666666666666666,
              "#ed7953"
             ],
             [
              0.7777777777777778,
              "#fb9f3a"
             ],
             [
              0.8888888888888888,
              "#fdca26"
             ],
             [
              1,
              "#f0f921"
             ]
            ],
            "type": "histogram2d"
           }
          ],
          "histogram2dcontour": [
           {
            "colorbar": {
             "outlinewidth": 0,
             "ticks": ""
            },
            "colorscale": [
             [
              0,
              "#0d0887"
             ],
             [
              0.1111111111111111,
              "#46039f"
             ],
             [
              0.2222222222222222,
              "#7201a8"
             ],
             [
              0.3333333333333333,
              "#9c179e"
             ],
             [
              0.4444444444444444,
              "#bd3786"
             ],
             [
              0.5555555555555556,
              "#d8576b"
             ],
             [
              0.6666666666666666,
              "#ed7953"
             ],
             [
              0.7777777777777778,
              "#fb9f3a"
             ],
             [
              0.8888888888888888,
              "#fdca26"
             ],
             [
              1,
              "#f0f921"
             ]
            ],
            "type": "histogram2dcontour"
           }
          ],
          "mesh3d": [
           {
            "colorbar": {
             "outlinewidth": 0,
             "ticks": ""
            },
            "type": "mesh3d"
           }
          ],
          "parcoords": [
           {
            "line": {
             "colorbar": {
              "outlinewidth": 0,
              "ticks": ""
             }
            },
            "type": "parcoords"
           }
          ],
          "pie": [
           {
            "automargin": true,
            "type": "pie"
           }
          ],
          "scatter": [
           {
            "fillpattern": {
             "fillmode": "overlay",
             "size": 10,
             "solidity": 0.2
            },
            "type": "scatter"
           }
          ],
          "scatter3d": [
           {
            "line": {
             "colorbar": {
              "outlinewidth": 0,
              "ticks": ""
             }
            },
            "marker": {
             "colorbar": {
              "outlinewidth": 0,
              "ticks": ""
             }
            },
            "type": "scatter3d"
           }
          ],
          "scattercarpet": [
           {
            "marker": {
             "colorbar": {
              "outlinewidth": 0,
              "ticks": ""
             }
            },
            "type": "scattercarpet"
           }
          ],
          "scattergeo": [
           {
            "marker": {
             "colorbar": {
              "outlinewidth": 0,
              "ticks": ""
             }
            },
            "type": "scattergeo"
           }
          ],
          "scattergl": [
           {
            "marker": {
             "colorbar": {
              "outlinewidth": 0,
              "ticks": ""
             }
            },
            "type": "scattergl"
           }
          ],
          "scattermap": [
           {
            "marker": {
             "colorbar": {
              "outlinewidth": 0,
              "ticks": ""
             }
            },
            "type": "scattermap"
           }
          ],
          "scattermapbox": [
           {
            "marker": {
             "colorbar": {
              "outlinewidth": 0,
              "ticks": ""
             }
            },
            "type": "scattermapbox"
           }
          ],
          "scatterpolar": [
           {
            "marker": {
             "colorbar": {
              "outlinewidth": 0,
              "ticks": ""
             }
            },
            "type": "scatterpolar"
           }
          ],
          "scatterpolargl": [
           {
            "marker": {
             "colorbar": {
              "outlinewidth": 0,
              "ticks": ""
             }
            },
            "type": "scatterpolargl"
           }
          ],
          "scatterternary": [
           {
            "marker": {
             "colorbar": {
              "outlinewidth": 0,
              "ticks": ""
             }
            },
            "type": "scatterternary"
           }
          ],
          "surface": [
           {
            "colorbar": {
             "outlinewidth": 0,
             "ticks": ""
            },
            "colorscale": [
             [
              0,
              "#0d0887"
             ],
             [
              0.1111111111111111,
              "#46039f"
             ],
             [
              0.2222222222222222,
              "#7201a8"
             ],
             [
              0.3333333333333333,
              "#9c179e"
             ],
             [
              0.4444444444444444,
              "#bd3786"
             ],
             [
              0.5555555555555556,
              "#d8576b"
             ],
             [
              0.6666666666666666,
              "#ed7953"
             ],
             [
              0.7777777777777778,
              "#fb9f3a"
             ],
             [
              0.8888888888888888,
              "#fdca26"
             ],
             [
              1,
              "#f0f921"
             ]
            ],
            "type": "surface"
           }
          ],
          "table": [
           {
            "cells": {
             "fill": {
              "color": "#EBF0F8"
             },
             "line": {
              "color": "white"
             }
            },
            "header": {
             "fill": {
              "color": "#C8D4E3"
             },
             "line": {
              "color": "white"
             }
            },
            "type": "table"
           }
          ]
         },
         "layout": {
          "annotationdefaults": {
           "arrowcolor": "#2a3f5f",
           "arrowhead": 0,
           "arrowwidth": 1
          },
          "autotypenumbers": "strict",
          "coloraxis": {
           "colorbar": {
            "outlinewidth": 0,
            "ticks": ""
           }
          },
          "colorscale": {
           "diverging": [
            [
             0,
             "#8e0152"
            ],
            [
             0.1,
             "#c51b7d"
            ],
            [
             0.2,
             "#de77ae"
            ],
            [
             0.3,
             "#f1b6da"
            ],
            [
             0.4,
             "#fde0ef"
            ],
            [
             0.5,
             "#f7f7f7"
            ],
            [
             0.6,
             "#e6f5d0"
            ],
            [
             0.7,
             "#b8e186"
            ],
            [
             0.8,
             "#7fbc41"
            ],
            [
             0.9,
             "#4d9221"
            ],
            [
             1,
             "#276419"
            ]
           ],
           "sequential": [
            [
             0,
             "#0d0887"
            ],
            [
             0.1111111111111111,
             "#46039f"
            ],
            [
             0.2222222222222222,
             "#7201a8"
            ],
            [
             0.3333333333333333,
             "#9c179e"
            ],
            [
             0.4444444444444444,
             "#bd3786"
            ],
            [
             0.5555555555555556,
             "#d8576b"
            ],
            [
             0.6666666666666666,
             "#ed7953"
            ],
            [
             0.7777777777777778,
             "#fb9f3a"
            ],
            [
             0.8888888888888888,
             "#fdca26"
            ],
            [
             1,
             "#f0f921"
            ]
           ],
           "sequentialminus": [
            [
             0,
             "#0d0887"
            ],
            [
             0.1111111111111111,
             "#46039f"
            ],
            [
             0.2222222222222222,
             "#7201a8"
            ],
            [
             0.3333333333333333,
             "#9c179e"
            ],
            [
             0.4444444444444444,
             "#bd3786"
            ],
            [
             0.5555555555555556,
             "#d8576b"
            ],
            [
             0.6666666666666666,
             "#ed7953"
            ],
            [
             0.7777777777777778,
             "#fb9f3a"
            ],
            [
             0.8888888888888888,
             "#fdca26"
            ],
            [
             1,
             "#f0f921"
            ]
           ]
          },
          "colorway": [
           "#636efa",
           "#EF553B",
           "#00cc96",
           "#ab63fa",
           "#FFA15A",
           "#19d3f3",
           "#FF6692",
           "#B6E880",
           "#FF97FF",
           "#FECB52"
          ],
          "font": {
           "color": "#2a3f5f"
          },
          "geo": {
           "bgcolor": "white",
           "lakecolor": "white",
           "landcolor": "#E5ECF6",
           "showlakes": true,
           "showland": true,
           "subunitcolor": "white"
          },
          "hoverlabel": {
           "align": "left"
          },
          "hovermode": "closest",
          "mapbox": {
           "style": "light"
          },
          "paper_bgcolor": "white",
          "plot_bgcolor": "#E5ECF6",
          "polar": {
           "angularaxis": {
            "gridcolor": "white",
            "linecolor": "white",
            "ticks": ""
           },
           "bgcolor": "#E5ECF6",
           "radialaxis": {
            "gridcolor": "white",
            "linecolor": "white",
            "ticks": ""
           }
          },
          "scene": {
           "xaxis": {
            "backgroundcolor": "#E5ECF6",
            "gridcolor": "white",
            "gridwidth": 2,
            "linecolor": "white",
            "showbackground": true,
            "ticks": "",
            "zerolinecolor": "white"
           },
           "yaxis": {
            "backgroundcolor": "#E5ECF6",
            "gridcolor": "white",
            "gridwidth": 2,
            "linecolor": "white",
            "showbackground": true,
            "ticks": "",
            "zerolinecolor": "white"
           },
           "zaxis": {
            "backgroundcolor": "#E5ECF6",
            "gridcolor": "white",
            "gridwidth": 2,
            "linecolor": "white",
            "showbackground": true,
            "ticks": "",
            "zerolinecolor": "white"
           }
          },
          "shapedefaults": {
           "line": {
            "color": "#2a3f5f"
           }
          },
          "ternary": {
           "aaxis": {
            "gridcolor": "white",
            "linecolor": "white",
            "ticks": ""
           },
           "baxis": {
            "gridcolor": "white",
            "linecolor": "white",
            "ticks": ""
           },
           "bgcolor": "#E5ECF6",
           "caxis": {
            "gridcolor": "white",
            "linecolor": "white",
            "ticks": ""
           }
          },
          "title": {
           "x": 0.05
          },
          "xaxis": {
           "automargin": true,
           "gridcolor": "white",
           "linecolor": "white",
           "ticks": "",
           "title": {
            "standoff": 15
           },
           "zerolinecolor": "white",
           "zerolinewidth": 2
          },
          "yaxis": {
           "automargin": true,
           "gridcolor": "white",
           "linecolor": "white",
           "ticks": "",
           "title": {
            "standoff": 15
           },
           "zerolinecolor": "white",
           "zerolinewidth": 2
          }
         }
        },
        "title": {
         "text": "Voor vs Na Treatment - Geïndexeerd (Voor = 100)"
        },
        "width": 1000,
        "xaxis": {
         "anchor": "y",
         "domain": [
          0,
          1
         ],
         "tickangle": -45,
         "title": {
          "text": "DiD Groepen"
         }
        },
        "yaxis": {
         "anchor": "x",
         "domain": [
          0,
          1
         ],
         "title": {
          "text": "Index (Voor Treatment = 100)"
         }
        }
       }
      }
     },
     "metadata": {},
     "output_type": "display_data"
    },
    {
     "name": "stdout",
     "output_type": "stream",
     "text": [
      "\n",
      "🎯 BELANGRIJKSTE INZICHT:\n",
      "De treatment groep toont de grootste relatieve toename!\n",
      "Dit is precies wat we verwachten van een succesvol treatment effect.\n"
     ]
    }
   ],
   "source": [
    "# 2. Voor/Na vergelijking per groep - GEÏNDEXEERD\n",
    "print(\"📊 VOOR/NA VERGELIJKING - GEÏNDEXEERD (Basis: Voor = 100)\")\n",
    "print(\"=\" * 55)\n",
    "\n",
    "# Bereken gemiddeldes voor voor/na periodes\n",
    "pre_post_comparison = df_did.groupby(['group_label', 'post_treatment'])[OUTCOME_VARIABLE].mean().reset_index()\n",
    "\n",
    "# Bereken index voor elke groep (voor period = 100)\n",
    "pre_post_indexed = pre_post_comparison.copy()\n",
    "pre_post_indexed['Index'] = 0\n",
    "\n",
    "for group in pre_post_comparison['group_label'].unique():\n",
    "    group_data = pre_post_comparison[pre_post_comparison['group_label'] == group]\n",
    "    \n",
    "    # Vind baseline (voor treatment)\n",
    "    baseline = group_data[group_data['post_treatment'] == 0][OUTCOME_VARIABLE].iloc[0]\n",
    "    \n",
    "    # Bereken index voor beide periodes\n",
    "    group_mask = pre_post_indexed['group_label'] == group\n",
    "    pre_post_indexed.loc[group_mask, 'Index'] = (pre_post_indexed.loc[group_mask, OUTCOME_VARIABLE] / baseline) * 100\n",
    "    \n",
    "    # Print resultaten\n",
    "    voor_index = pre_post_indexed.loc[group_mask & (pre_post_indexed['post_treatment'] == 0), 'Index'].iloc[0]\n",
    "    na_index = pre_post_indexed.loc[group_mask & (pre_post_indexed['post_treatment'] == 1), 'Index'].iloc[0]\n",
    "    verschil = na_index - voor_index\n",
    "    \n",
    "    trend_symbol = \"📈\" if verschil > 0 else \"📉\" if verschil < 0 else \"➡️\"\n",
    "    print(f\"{trend_symbol} {group}:\")\n",
    "    print(f\"    Voor: {voor_index:.0f} | Na: {na_index:.1f} | Verschil: {verschil:+.1f} punten\")\n",
    "\n",
    "# Voeg periode labels toe\n",
    "pre_post_indexed['Periode'] = pre_post_indexed['post_treatment'].map({\n",
    "    0: f'Voor Treatment ({min(PRE_TREATMENT_YEARS)}-{max(PRE_TREATMENT_YEARS)})', \n",
    "    1: f'Na Treatment ({min(POST_TREATMENT_YEARS)}-{max(POST_TREATMENT_YEARS)})'\n",
    "})\n",
    "\n",
    "# Maak de geïndexeerde bar chart\n",
    "fig2_indexed = px.bar(pre_post_indexed, \n",
    "                     x='group_label', \n",
    "                     y='Index', \n",
    "                     color='Periode',\n",
    "                     title='Voor vs Na Treatment - Geïndexeerd (Voor = 100)',\n",
    "                     barmode='group',\n",
    "                     color_discrete_map={\n",
    "                         f'Voor Treatment ({min(PRE_TREATMENT_YEARS)}-{max(PRE_TREATMENT_YEARS)})': 'lightblue', \n",
    "                         f'Na Treatment ({min(POST_TREATMENT_YEARS)}-{max(POST_TREATMENT_YEARS)})': 'darkblue'\n",
    "                     })\n",
    "\n",
    "# Voeg horizontale lijn toe voor baseline\n",
    "fig2_indexed.add_hline(y=100, line_dash=\"dot\", line_color=\"gray\", \n",
    "                      annotation_text=\"Baseline (Voor = 100)\")\n",
    "\n",
    "fig2_indexed.update_layout(\n",
    "    height=500, \n",
    "    width=1000, \n",
    "    xaxis_tickangle=-45,\n",
    "    yaxis_title=\"Index (Voor Treatment = 100)\",\n",
    "    xaxis_title=\"DiD Groepen\"\n",
    ")\n",
    "\n",
    "# Highlight de treatment groep\n",
    "fig2_indexed.add_annotation(\n",
    "    x=\"Vlaanderen-Bouw\", y=250,\n",
    "    text=\"🎯 TREATMENT GROEP\",\n",
    "    showarrow=True,\n",
    "    arrowhead=2,\n",
    "    arrowcolor=\"red\",\n",
    "    arrowwidth=2,\n",
    "    font=dict(size=12, color=\"red\")\n",
    ")\n",
    "\n",
    "fig2_indexed.show()\n",
    "\n",
    "print(f\"\\n🎯 BELANGRIJKSTE INZICHT:\")\n",
    "print(\"De treatment groep toont de grootste relatieve toename!\")\n",
    "print(\"Dit is precies wat we verwachten van een succesvol treatment effect.\")"
   ]
  },
  {
   "cell_type": "markdown",
   "id": "13265110",
   "metadata": {},
   "source": [
    "### 💡 **Voordelen van Geïndexeerde Visualisatie (Basis 100)**\n",
    "\n",
    "#### 🎯 **Waarom indexeren beter is dan absolute waarden:**\n",
    "\n",
    "1. **Vergelijkbare schaal**: Alle groepen starten op 100, waardoor relatieve veranderingen direct vergelijkbaar zijn\n",
    "2. **Focus op verandering**: De DiD methode draait om relatieve veranderingen, niet absolute niveaus\n",
    "3. **Duidelijke interpretatie**: \n",
    "   - Index > 100 = groei ten opzichte van basis\n",
    "   - Index < 100 = krimp ten opzichte van basis\n",
    "   - Verschil tussen groepen = relatief effect\n",
    "\n",
    "#### 📊 **Wat de geïndexeerde resultaten tonen:**\n",
    "\n",
    "- **Vlaanderen-Bouw**: +113.5 punten (2015→2022) en +85.1 punten (voor→na)\n",
    "- **Sterkste controle (Vlaanderen-Alle sectoren)**: +75.8 punten (2015→2022) en +29.0 punten (voor→na)\n",
    "- **Zwakste controle (Bru/Wal-Bouw)**: -7.1 punten (2015→2022) en -5.5 punten (voor→na)\n",
    "\n",
    "#### 🔍 **DiD Effect wordt nu veel duidelijker:**\n",
    "De treatment groep stijgt **85.1 punten** vs. gemiddeld **~10.6 punten** voor controle groepen = **~75 punten verschil**!\n",
    "\n",
    "Dit bevestigt het statistische DiD effect van +4,993 oprichtingen, maar toont het nu in relatieve termen."
   ]
  },
  {
   "cell_type": "code",
   "execution_count": null,
   "id": "18c79f13",
   "metadata": {},
   "outputs": [],
   "source": [
    "# 3. Heatmap van de drie verschil-dimensies\n",
    "# Creëer een matrix voor de heatmap\n",
    "heatmap_data = df_did.groupby(['Gewest', 'Sectie', 'post_treatment'])[OUTCOME_VARIABLE].mean().unstack()\n",
    "heatmap_data.columns = ['Voor Treatment', 'Na Treatment']\n",
    "heatmap_data['Verschil'] = heatmap_data['Na Treatment'] - heatmap_data['Voor Treatment']\n",
    "\n",
    "# Creëer subplot voor verschillende perspectieven\n",
    "fig3 = make_subplots(\n",
    "    rows=1, cols=3,\n",
    "    subplot_titles=('Voor Treatment', 'Na Treatment', 'Verschil (Na - Voor)'),\n",
    "    specs=[[{\"type\": \"heatmap\"}, {\"type\": \"heatmap\"}, {\"type\": \"heatmap\"}]]\n",
    ")\n",
    "\n",
    "# Reset index voor plotting\n",
    "heatmap_plot = heatmap_data.reset_index()\n",
    "pivot_voor = heatmap_plot.pivot(index='Gewest', columns='Sectie', values='Voor Treatment')\n",
    "pivot_na = heatmap_plot.pivot(index='Gewest', columns='Sectie', values='Na Treatment')\n",
    "pivot_verschil = heatmap_plot.pivot(index='Gewest', columns='Sectie', values='Verschil')\n",
    "\n",
    "# Voeg heatmaps toe\n",
    "fig3.add_trace(\n",
    "    go.Heatmap(z=pivot_voor.values, \n",
    "               x=[s.split(' ')[0] for s in pivot_voor.columns], \n",
    "               y=pivot_voor.index,\n",
    "               colorscale='Blues',\n",
    "               showscale=False),\n",
    "    row=1, col=1\n",
    ")\n",
    "\n",
    "fig3.add_trace(\n",
    "    go.Heatmap(z=pivot_na.values, \n",
    "               x=[s.split(' ')[0] for s in pivot_na.columns], \n",
    "               y=pivot_na.index,\n",
    "               colorscale='Blues',\n",
    "               showscale=False),\n",
    "    row=1, col=2\n",
    ")\n",
    "\n",
    "fig3.add_trace(\n",
    "    go.Heatmap(z=pivot_verschil.values, \n",
    "               x=[s.split(' ')[0] for s in pivot_verschil.columns], \n",
    "               y=pivot_verschil.index,\n",
    "               colorscale='RdBu',\n",
    "               showscale=True),\n",
    "    row=1, col=3\n",
    ")\n",
    "\n",
    "fig3.update_layout(height=400, width=1200, title_text=\"Drie Verschil-Dimensies Heatmap\")\n",
    "fig3.show()"
   ]
  },
  {
   "cell_type": "markdown",
   "id": "4c8b277c",
   "metadata": {},
   "source": [
    "### 📖 **Hoe lees je de \"Drie Verschil-Dimensies Heatmap\"?**\n",
    "\n",
    "De heatmap visualiseert de kern van de DiD methodologie door drie dimensies te tonen:\n",
    "\n",
    "#### 🟦 **Panel 1: \"Voor Treatment\" (2015-2018)**\n",
    "- **Wat zie je**: Gemiddeld aantal oprichtingen per regio-sector combinatie vóór 2019\n",
    "- **Kleuren**: Hoe donkerder blauw, hoe meer oprichtingen\n",
    "- **Interpretatie**: Dit toont de baseline niveaus voor alle groepen\n",
    "\n",
    "#### 🟦 **Panel 2: \"Na Treatment\" (2019-2022)** \n",
    "- **Wat zie je**: Gemiddeld aantal oprichtingen per regio-sector combinatie vanaf 2019\n",
    "- **Kleuren**: Hoe donkerder blauw, hoe meer oprichtingen  \n",
    "- **Interpretatie**: Dit toont de niveaus na de treatment\n",
    "\n",
    "#### 🔴🔵 **Panel 3: \"Verschil (Na - Voor)\" - DE BELANGRIJKSTE!**\n",
    "- **Wat zie je**: Het verschil tussen na en voor treatment voor elke combinatie\n",
    "- **Kleuren**: \n",
    "  - 🔴 **Rood**: Toename in oprichtingen (positief verschil)\n",
    "  - 🔵 **Blauw**: Afname in oprichtingen (negatief verschil)\n",
    "  - ⚪ **Wit**: Geen verandering\n",
    "- **DiD interpretatie**:\n",
    "  - **Vlaanderen-Bouw** (treatment): Verwacht sterke rode kleur\n",
    "  - **Andere combinaties** (controle): Verwacht minder intense kleuren\n",
    "\n",
    "#### 🎯 **Wat zoek je?**\n",
    "1. **Treatment effect**: Is Vlaanderen-Bouw het roodst (grootste toename)?\n",
    "2. **Parallel trends**: Hebben andere sectoren in Vlaanderen vergelijkbare kleuren als bouw in andere regio's?\n",
    "3. **Unieke impact**: Steekt Vlaanderen-Bouw er duidelijk uit?"
   ]
  },
  {
   "cell_type": "code",
   "execution_count": 85,
   "id": "92b3c65a",
   "metadata": {},
   "outputs": [
    {
     "name": "stdout",
     "output_type": "stream",
     "text": [
      "🔍 HEATMAP INTERPRETATIE GIDS\n",
      "========================================\n",
      "\n",
      "📊 VERSCHIL WAARDEN (Na - Voor):\n",
      "========================================\n",
      "\n",
      "🌍 Vlaams Gewest:\n",
      "   🏗️  Bouwsector: +5230 oprichtingen (🔴 TOENAME)\n",
      "   🏢 Andere sectoren (gem.): +647 oprichtingen\n",
      "\n",
      "🌍 Brussels Hoofdstedelijk Gewest:\n",
      "   🏗️  Bouwsector: -493 oprichtingen (🔵 AFNAME)\n",
      "   🏢 Andere sectoren (gem.): +17 oprichtingen\n",
      "\n",
      "🌍 Waals Gewest:\n",
      "   🏗️  Bouwsector: +230 oprichtingen (🔴 TOENAME)\n",
      "   🏢 Andere sectoren (gem.): +129 oprichtingen\n",
      "\n",
      "🎯 CONCLUSIE:\n",
      "Treatment (Vlaanderen-Bouw): +5230\n",
      "Controle groepen (gemiddeld): +264\n",
      "DiD Effect: +4966 (verschil van verschillen)\n",
      "✅ De treatment groep toont een duidelijk sterkere toename!\n"
     ]
    }
   ],
   "source": [
    "# PRAKTISCHE LEESWIJZER voor de Heatmap\n",
    "print(\"🔍 HEATMAP INTERPRETATIE GIDS\")\n",
    "print(\"=\" * 40)\n",
    "\n",
    "# Bereken de waarden voor interpretatie\n",
    "heatmap_values = df_did.groupby(['Gewest', 'Sectie', 'post_treatment'])[OUTCOME_VARIABLE].mean().unstack()\n",
    "heatmap_values.columns = ['Voor', 'Na'] \n",
    "heatmap_values['Verschil'] = heatmap_values['Na'] - heatmap_values['Voor']\n",
    "\n",
    "print(\"\\n📊 VERSCHIL WAARDEN (Na - Voor):\")\n",
    "print(\"=\" * 40)\n",
    "\n",
    "# Focus op de belangrijkste combinaties\n",
    "for region in ['Vlaams Gewest', 'Brussels Hoofdstedelijk Gewest', 'Waals Gewest']:\n",
    "    print(f\"\\n🌍 {region}:\")\n",
    "    region_data = heatmap_values.loc[region]\n",
    "    \n",
    "    # Zoek bouwsector\n",
    "    bouw_data = region_data[region_data.index.str.contains('F Bouwnijverheid', na=False)]\n",
    "    if not bouw_data.empty:\n",
    "        verschil = bouw_data['Verschil'].iloc[0]\n",
    "        print(f\"   🏗️  Bouwsector: {verschil:+.0f} oprichtingen ({'🔴 TOENAME' if verschil > 0 else '🔵 AFNAME' if verschil < 0 else '⚪ GEEN VERANDERING'})\")\n",
    "    \n",
    "    # Gemiddelde van andere sectoren\n",
    "    andere_sectoren = region_data[~region_data.index.str.contains('F Bouwnijverheid', na=False)]\n",
    "    if not andere_sectoren.empty:\n",
    "        gem_verschil = andere_sectoren['Verschil'].mean()\n",
    "        print(f\"   🏢 Andere sectoren (gem.): {gem_verschil:+.0f} oprichtingen\")\n",
    "\n",
    "print(f\"\\n🎯 CONCLUSIE:\")\n",
    "treatment_verschil = heatmap_values.loc['Vlaams Gewest'].loc[heatmap_values.loc['Vlaams Gewest'].index.str.contains('F Bouwnijverheid', na=False), 'Verschil'].iloc[0]\n",
    "controle_gem = heatmap_values[~heatmap_values.index.get_level_values(1).str.contains('F Bouwnijverheid', na=False)]['Verschil'].mean()\n",
    "\n",
    "print(f\"Treatment (Vlaanderen-Bouw): {treatment_verschil:+.0f}\")\n",
    "print(f\"Controle groepen (gemiddeld): {controle_gem:+.0f}\")\n",
    "print(f\"DiD Effect: {treatment_verschil - controle_gem:+.0f} (verschil van verschillen)\")\n",
    "\n",
    "if treatment_verschil > controle_gem:\n",
    "    print(\"✅ De treatment groep toont een duidelijk sterkere toename!\")\n",
    "else:\n",
    "    print(\"❌ De treatment groep toont geen duidelijk sterkere toename.\")"
   ]
  },
  {
   "cell_type": "code",
   "execution_count": 86,
   "id": "d67eb9bd",
   "metadata": {},
   "outputs": [
    {
     "name": "stdout",
     "output_type": "stream",
     "text": [
      "🤔 MYSTERIE: Waarom heeft Treatment (Vlaanderen-Bouw) zulke hoge waarden?\n",
      "======================================================================\n",
      "\n",
      "1️⃣ AANTAL OBSERVATIES PER GROEP:\n",
      "----------------------------------------\n",
      "group_label\n",
      "Bru/Wal-Alle sectoren       333\n",
      "Bru/Wal-Bouw                 16\n",
      "Vlaanderen-Alle sectoren    168\n",
      "Vlaanderen-Bouw               8\n",
      "dtype: int64\n",
      "\n",
      "2️⃣ TREATMENT GROEP vs ANDERE SECTOREN IN VLAANDEREN:\n",
      "--------------------------------------------------\n",
      "🏗️ BOUWSECTOR in Vlaanderen:\n",
      "   Voor: 6143 oprichtingen\n",
      "   Na:   11373 oprichtingen\n",
      "\n",
      "🏢 ANDERE SECTOREN in Vlaanderen (top 5):\n",
      "   1. M Vrije beroepen en wetenschap...: 11895\n",
      "   2. G Groot- en detailhandel/ repa...: 8746\n",
      "   3. N Administratieve en ondersteu...: 4724\n",
      "   4. S Overige diensten: 4476\n",
      "   5. Q Menselijke gezondheidszorg e...: 3772\n",
      "\n",
      "3️⃣ WAAROM ZO HOOG? MOGELIJKE VERKLARINGEN:\n",
      "---------------------------------------------\n",
      "✅ Bouwsector alleen: 8758 oprichtingen/jaar\n",
      "📊 Alle andere sectoren samen: 53658 oprichtingen/jaar\n",
      "\n",
      "🎯 VERKLARING: Dit komt door de AGGREGATIE in de grafiek!\n",
      "   • Treatment toont 1 sector (bouw)\n",
      "   • Controle toont GEMIDDELDE van 21 sectoren\n",
      "\n",
      "4️⃣ VISUALISATIE EFFECT:\n",
      "-------------------------\n",
      "In de grafiek zie je gemiddeldes per groep:\n",
      "• Treatment: Gemiddelde van 1 sector (bouw)\n",
      "• Control Sector: Gemiddelde van 21 sectoren\n",
      "• Dit maakt vergelijking mogelijk, maar kan verwarrend lijken!\n"
     ]
    }
   ],
   "source": [
    "# 🔍 ANALYSE: Waarom is de Treatment groep zo hoog?\n",
    "print(\"🤔 MYSTERIE: Waarom heeft Treatment (Vlaanderen-Bouw) zulke hoge waarden?\")\n",
    "print(\"=\" * 70)\n",
    "\n",
    "# Analyseer de data in detail\n",
    "print(\"\\n1️⃣ AANTAL OBSERVATIES PER GROEP:\")\n",
    "print(\"-\" * 40)\n",
    "group_counts = df_did.groupby('group_label').size()\n",
    "print(group_counts)\n",
    "\n",
    "print(\"\\n2️⃣ TREATMENT GROEP vs ANDERE SECTOREN IN VLAANDEREN:\")\n",
    "print(\"-\" * 50)\n",
    "\n",
    "# Vergelijk bouw vs andere sectoren in Vlaanderen\n",
    "vlaanderen_data = df_did[df_did['Gewest'] == 'Vlaams Gewest']\n",
    "\n",
    "print(\"🏗️ BOUWSECTOR in Vlaanderen:\")\n",
    "bouw_vl = vlaanderen_data[vlaanderen_data['Sectie'] == 'F Bouwnijverheid']\n",
    "if not bouw_vl.empty:\n",
    "    print(f\"   Voor: {bouw_vl[bouw_vl['post_treatment']==0][OUTCOME_VARIABLE].mean():.0f} oprichtingen\")\n",
    "    print(f\"   Na:   {bouw_vl[bouw_vl['post_treatment']==1][OUTCOME_VARIABLE].mean():.0f} oprichtingen\")\n",
    "\n",
    "print(f\"\\n🏢 ANDERE SECTOREN in Vlaanderen (top 5):\")\n",
    "andere_vl = vlaanderen_data[vlaanderen_data['Sectie'] != 'F Bouwnijverheid']\n",
    "sector_gemiddelden = andere_vl.groupby('Sectie')[OUTCOME_VARIABLE].mean().sort_values(ascending=False)\n",
    "for i, (sector, gem) in enumerate(sector_gemiddelden.head().items()):\n",
    "    print(f\"   {i+1}. {sector[:30]}{'...' if len(sector) > 30 else ''}: {gem:.0f}\")\n",
    "\n",
    "print(f\"\\n3️⃣ WAAROM ZO HOOG? MOGELIJKE VERKLARINGEN:\")\n",
    "print(\"-\" * 45)\n",
    "\n",
    "# Bereken totaal voor alle andere sectoren samen\n",
    "total_andere = andere_vl[OUTCOME_VARIABLE].sum() / len(andere_vl['Jaar'].unique())  # gemiddeld per jaar\n",
    "bouw_totaal = bouw_vl[OUTCOME_VARIABLE].sum() / len(bouw_vl['Jaar'].unique())\n",
    "\n",
    "print(f\"✅ Bouwsector alleen: {bouw_totaal:.0f} oprichtingen/jaar\")\n",
    "print(f\"📊 Alle andere sectoren samen: {total_andere:.0f} oprichtingen/jaar\")\n",
    "\n",
    "if bouw_totaal > total_andere:\n",
    "    print(f\"\\n🎯 VERKLARING: De bouwsector is inderdaad een ZEER GROTE sector!\")\n",
    "    print(f\"   • Bouw is waarschijnlijk een van de grootste sectoren qua nieuwe bedrijven\")\n",
    "    print(f\"   • Veel kleine aannemers, ZZP'ers, en gespecialiseerde bedrijven\")\n",
    "    print(f\"   • Lage instapdrempel voor nieuwe bedrijven\")\n",
    "else:\n",
    "    print(f\"\\n🎯 VERKLARING: Dit komt door de AGGREGATIE in de grafiek!\")\n",
    "    print(f\"   • Treatment toont 1 sector (bouw)\")  \n",
    "    print(f\"   • Controle toont GEMIDDELDE van {len(CONTROL_SECTORS)} sectoren\")\n",
    "\n",
    "print(f\"\\n4️⃣ VISUALISATIE EFFECT:\")\n",
    "print(\"-\" * 25)\n",
    "print(\"In de grafiek zie je gemiddeldes per groep:\")\n",
    "print(\"• Treatment: Gemiddelde van 1 sector (bouw)\")\n",
    "print(\"• Control Sector: Gemiddelde van 21 sectoren\") \n",
    "print(\"• Dit maakt vergelijking mogelijk, maar kan verwarrend lijken!\")"
   ]
  },
  {
   "cell_type": "code",
   "execution_count": 87,
   "id": "9c6fdf47",
   "metadata": {},
   "outputs": [
    {
     "name": "stdout",
     "output_type": "stream",
     "text": [
      "📊 SECTOREN IN PERSPECTIEF - Vlaanderen\n",
      "=============================================\n",
      "🏆 TOP 10 SECTOREN in Vlaanderen (gemiddeld aantal oprichtingen):\n",
      "------------------------------------------------------------\n",
      " 1. 🏢 M Vrije                  :   11895 oprichtingen\n",
      " 2. 🏗️ F Bouwnijverheid         :    8758 oprichtingen\n",
      " 3. 🏢 G Groot-                 :    8746 oprichtingen\n",
      " 4. 🏢 N Administratieve        :    4724 oprichtingen\n",
      " 5. 🏢 S Overige                :    4476 oprichtingen\n",
      " 6. 🏢 Q Menselijke             :    3772 oprichtingen\n",
      " 7. 🏢 J Informatie             :    3765 oprichtingen\n",
      " 8. 🏢 I Verschaffen            :    3630 oprichtingen\n",
      " 9. 🏢 C Industrie              :    2843 oprichtingen\n",
      "10. 🏢 R Kunst,                 :    2514 oprichtingen\n",
      "\n",
      "💡 BELANGRIJKE INZICHTEN:\n",
      "-------------------------\n",
      "• Bouwsector staat op plaats 2 van 22 sectoren\n",
      "• Bouw is inderdaad een grote sector, maar niet de grootste\n",
      "• De grafiek toont GEMIDDELDES per groep, niet totalen\n"
     ]
    },
    {
     "data": {
      "application/vnd.plotly.v1+json": {
       "config": {
        "plotlyServerURL": "https://plot.ly"
       },
       "data": [
        {
         "hovertemplate": "Periode=Voor (2015-2018)<br>Aantal oprichtingen=%{x}<br>Sector_kort=%{y}<extra></extra>",
         "legendgroup": "Voor (2015-2018)",
         "marker": {
          "color": "lightblue",
          "pattern": {
           "shape": ""
          }
         },
         "name": "Voor (2015-2018)",
         "orientation": "h",
         "showlegend": true,
         "textposition": "auto",
         "type": "bar",
         "x": {
          "bdata": "AAAAAADKjUAAAAAAAAAGQAAAAACAnaJAAAAAAABgW0AAAAAAAKBJQAAAAAAA/7dAAAAAAICbvUAAAAAAAECUQAAAAACAD6xAAAAAAIC/qkAAAAAAAHiIQAAAAAAAfZpAAAAAAIDfxEAAAAAAgHSvQAAAAAAAADxAAAAAAADAMEAAAAAAAOOaQAAAAACAHqFAAAAAAIAPo0AAAAAAAEmuQAAAAAAAACtAAAAAAAAAAAA=",
          "dtype": "f8"
         },
         "xaxis": "x",
         "y": [
          "A",
          "B",
          "C",
          "D",
          "E",
          "F",
          "G",
          "H",
          "I",
          "J",
          "K",
          "L",
          "M",
          "N",
          "O",
          "Onbekende",
          "P",
          "Q",
          "R",
          "S",
          "T",
          "U"
         ],
         "yaxis": "y"
        },
        {
         "hovertemplate": "Periode=Na (2019-2022)<br>Aantal oprichtingen=%{x}<br>Sector_kort=%{y}<extra></extra>",
         "legendgroup": "Na (2019-2022)",
         "marker": {
          "color": "darkblue",
          "pattern": {
           "shape": ""
          }
         },
         "name": "Na (2019-2022)",
         "orientation": "h",
         "showlegend": true,
         "textposition": "auto",
         "type": "bar",
         "x": {
          "bdata": "AAAAAABIkUAAAAAAAAAVQAAAAACAzalAAAAAAADgW0AAAAAAAEBXQAAAAACANsZAAAAAAMBcw0AAAAAAAPidQAAAAAAAqaxAAAAAAAAKsEAAAAAAAMB+QAAAAAAAfJ1AAAAAAICXyUAAAAAAwC61QAAAAAAAgDVAAAAAAADgQ0AAAAAAAF6hQAAAAABA6LRAAAAAAIA5pEAAAAAAwNKzQAAAAAAAgDJAAAAAAAAA0D8=",
          "dtype": "f8"
         },
         "xaxis": "x",
         "y": [
          "A",
          "B",
          "C",
          "D",
          "E",
          "F",
          "G",
          "H",
          "I",
          "J",
          "K",
          "L",
          "M",
          "N",
          "O",
          "Onbekende",
          "P",
          "Q",
          "R",
          "S",
          "T",
          "U"
         ],
         "yaxis": "y"
        }
       ],
       "layout": {
        "annotations": [
         {
          "arrowcolor": "red",
          "arrowhead": 2,
          "arrowwidth": 2,
          "font": {
           "color": "red",
           "size": 14
          },
          "showarrow": true,
          "text": "🏗️ TREATMENT SECTOR",
          "x": 8000,
          "y": "F"
         }
        ],
        "barmode": "relative",
        "height": 800,
        "legend": {
         "title": {
          "text": "Periode"
         },
         "tracegroupgap": 0
        },
        "template": {
         "data": {
          "bar": [
           {
            "error_x": {
             "color": "#2a3f5f"
            },
            "error_y": {
             "color": "#2a3f5f"
            },
            "marker": {
             "line": {
              "color": "#E5ECF6",
              "width": 0.5
             },
             "pattern": {
              "fillmode": "overlay",
              "size": 10,
              "solidity": 0.2
             }
            },
            "type": "bar"
           }
          ],
          "barpolar": [
           {
            "marker": {
             "line": {
              "color": "#E5ECF6",
              "width": 0.5
             },
             "pattern": {
              "fillmode": "overlay",
              "size": 10,
              "solidity": 0.2
             }
            },
            "type": "barpolar"
           }
          ],
          "carpet": [
           {
            "aaxis": {
             "endlinecolor": "#2a3f5f",
             "gridcolor": "white",
             "linecolor": "white",
             "minorgridcolor": "white",
             "startlinecolor": "#2a3f5f"
            },
            "baxis": {
             "endlinecolor": "#2a3f5f",
             "gridcolor": "white",
             "linecolor": "white",
             "minorgridcolor": "white",
             "startlinecolor": "#2a3f5f"
            },
            "type": "carpet"
           }
          ],
          "choropleth": [
           {
            "colorbar": {
             "outlinewidth": 0,
             "ticks": ""
            },
            "type": "choropleth"
           }
          ],
          "contour": [
           {
            "colorbar": {
             "outlinewidth": 0,
             "ticks": ""
            },
            "colorscale": [
             [
              0,
              "#0d0887"
             ],
             [
              0.1111111111111111,
              "#46039f"
             ],
             [
              0.2222222222222222,
              "#7201a8"
             ],
             [
              0.3333333333333333,
              "#9c179e"
             ],
             [
              0.4444444444444444,
              "#bd3786"
             ],
             [
              0.5555555555555556,
              "#d8576b"
             ],
             [
              0.6666666666666666,
              "#ed7953"
             ],
             [
              0.7777777777777778,
              "#fb9f3a"
             ],
             [
              0.8888888888888888,
              "#fdca26"
             ],
             [
              1,
              "#f0f921"
             ]
            ],
            "type": "contour"
           }
          ],
          "contourcarpet": [
           {
            "colorbar": {
             "outlinewidth": 0,
             "ticks": ""
            },
            "type": "contourcarpet"
           }
          ],
          "heatmap": [
           {
            "colorbar": {
             "outlinewidth": 0,
             "ticks": ""
            },
            "colorscale": [
             [
              0,
              "#0d0887"
             ],
             [
              0.1111111111111111,
              "#46039f"
             ],
             [
              0.2222222222222222,
              "#7201a8"
             ],
             [
              0.3333333333333333,
              "#9c179e"
             ],
             [
              0.4444444444444444,
              "#bd3786"
             ],
             [
              0.5555555555555556,
              "#d8576b"
             ],
             [
              0.6666666666666666,
              "#ed7953"
             ],
             [
              0.7777777777777778,
              "#fb9f3a"
             ],
             [
              0.8888888888888888,
              "#fdca26"
             ],
             [
              1,
              "#f0f921"
             ]
            ],
            "type": "heatmap"
           }
          ],
          "histogram": [
           {
            "marker": {
             "pattern": {
              "fillmode": "overlay",
              "size": 10,
              "solidity": 0.2
             }
            },
            "type": "histogram"
           }
          ],
          "histogram2d": [
           {
            "colorbar": {
             "outlinewidth": 0,
             "ticks": ""
            },
            "colorscale": [
             [
              0,
              "#0d0887"
             ],
             [
              0.1111111111111111,
              "#46039f"
             ],
             [
              0.2222222222222222,
              "#7201a8"
             ],
             [
              0.3333333333333333,
              "#9c179e"
             ],
             [
              0.4444444444444444,
              "#bd3786"
             ],
             [
              0.5555555555555556,
              "#d8576b"
             ],
             [
              0.6666666666666666,
              "#ed7953"
             ],
             [
              0.7777777777777778,
              "#fb9f3a"
             ],
             [
              0.8888888888888888,
              "#fdca26"
             ],
             [
              1,
              "#f0f921"
             ]
            ],
            "type": "histogram2d"
           }
          ],
          "histogram2dcontour": [
           {
            "colorbar": {
             "outlinewidth": 0,
             "ticks": ""
            },
            "colorscale": [
             [
              0,
              "#0d0887"
             ],
             [
              0.1111111111111111,
              "#46039f"
             ],
             [
              0.2222222222222222,
              "#7201a8"
             ],
             [
              0.3333333333333333,
              "#9c179e"
             ],
             [
              0.4444444444444444,
              "#bd3786"
             ],
             [
              0.5555555555555556,
              "#d8576b"
             ],
             [
              0.6666666666666666,
              "#ed7953"
             ],
             [
              0.7777777777777778,
              "#fb9f3a"
             ],
             [
              0.8888888888888888,
              "#fdca26"
             ],
             [
              1,
              "#f0f921"
             ]
            ],
            "type": "histogram2dcontour"
           }
          ],
          "mesh3d": [
           {
            "colorbar": {
             "outlinewidth": 0,
             "ticks": ""
            },
            "type": "mesh3d"
           }
          ],
          "parcoords": [
           {
            "line": {
             "colorbar": {
              "outlinewidth": 0,
              "ticks": ""
             }
            },
            "type": "parcoords"
           }
          ],
          "pie": [
           {
            "automargin": true,
            "type": "pie"
           }
          ],
          "scatter": [
           {
            "fillpattern": {
             "fillmode": "overlay",
             "size": 10,
             "solidity": 0.2
            },
            "type": "scatter"
           }
          ],
          "scatter3d": [
           {
            "line": {
             "colorbar": {
              "outlinewidth": 0,
              "ticks": ""
             }
            },
            "marker": {
             "colorbar": {
              "outlinewidth": 0,
              "ticks": ""
             }
            },
            "type": "scatter3d"
           }
          ],
          "scattercarpet": [
           {
            "marker": {
             "colorbar": {
              "outlinewidth": 0,
              "ticks": ""
             }
            },
            "type": "scattercarpet"
           }
          ],
          "scattergeo": [
           {
            "marker": {
             "colorbar": {
              "outlinewidth": 0,
              "ticks": ""
             }
            },
            "type": "scattergeo"
           }
          ],
          "scattergl": [
           {
            "marker": {
             "colorbar": {
              "outlinewidth": 0,
              "ticks": ""
             }
            },
            "type": "scattergl"
           }
          ],
          "scattermap": [
           {
            "marker": {
             "colorbar": {
              "outlinewidth": 0,
              "ticks": ""
             }
            },
            "type": "scattermap"
           }
          ],
          "scattermapbox": [
           {
            "marker": {
             "colorbar": {
              "outlinewidth": 0,
              "ticks": ""
             }
            },
            "type": "scattermapbox"
           }
          ],
          "scatterpolar": [
           {
            "marker": {
             "colorbar": {
              "outlinewidth": 0,
              "ticks": ""
             }
            },
            "type": "scatterpolar"
           }
          ],
          "scatterpolargl": [
           {
            "marker": {
             "colorbar": {
              "outlinewidth": 0,
              "ticks": ""
             }
            },
            "type": "scatterpolargl"
           }
          ],
          "scatterternary": [
           {
            "marker": {
             "colorbar": {
              "outlinewidth": 0,
              "ticks": ""
             }
            },
            "type": "scatterternary"
           }
          ],
          "surface": [
           {
            "colorbar": {
             "outlinewidth": 0,
             "ticks": ""
            },
            "colorscale": [
             [
              0,
              "#0d0887"
             ],
             [
              0.1111111111111111,
              "#46039f"
             ],
             [
              0.2222222222222222,
              "#7201a8"
             ],
             [
              0.3333333333333333,
              "#9c179e"
             ],
             [
              0.4444444444444444,
              "#bd3786"
             ],
             [
              0.5555555555555556,
              "#d8576b"
             ],
             [
              0.6666666666666666,
              "#ed7953"
             ],
             [
              0.7777777777777778,
              "#fb9f3a"
             ],
             [
              0.8888888888888888,
              "#fdca26"
             ],
             [
              1,
              "#f0f921"
             ]
            ],
            "type": "surface"
           }
          ],
          "table": [
           {
            "cells": {
             "fill": {
              "color": "#EBF0F8"
             },
             "line": {
              "color": "white"
             }
            },
            "header": {
             "fill": {
              "color": "#C8D4E3"
             },
             "line": {
              "color": "white"
             }
            },
            "type": "table"
           }
          ]
         },
         "layout": {
          "annotationdefaults": {
           "arrowcolor": "#2a3f5f",
           "arrowhead": 0,
           "arrowwidth": 1
          },
          "autotypenumbers": "strict",
          "coloraxis": {
           "colorbar": {
            "outlinewidth": 0,
            "ticks": ""
           }
          },
          "colorscale": {
           "diverging": [
            [
             0,
             "#8e0152"
            ],
            [
             0.1,
             "#c51b7d"
            ],
            [
             0.2,
             "#de77ae"
            ],
            [
             0.3,
             "#f1b6da"
            ],
            [
             0.4,
             "#fde0ef"
            ],
            [
             0.5,
             "#f7f7f7"
            ],
            [
             0.6,
             "#e6f5d0"
            ],
            [
             0.7,
             "#b8e186"
            ],
            [
             0.8,
             "#7fbc41"
            ],
            [
             0.9,
             "#4d9221"
            ],
            [
             1,
             "#276419"
            ]
           ],
           "sequential": [
            [
             0,
             "#0d0887"
            ],
            [
             0.1111111111111111,
             "#46039f"
            ],
            [
             0.2222222222222222,
             "#7201a8"
            ],
            [
             0.3333333333333333,
             "#9c179e"
            ],
            [
             0.4444444444444444,
             "#bd3786"
            ],
            [
             0.5555555555555556,
             "#d8576b"
            ],
            [
             0.6666666666666666,
             "#ed7953"
            ],
            [
             0.7777777777777778,
             "#fb9f3a"
            ],
            [
             0.8888888888888888,
             "#fdca26"
            ],
            [
             1,
             "#f0f921"
            ]
           ],
           "sequentialminus": [
            [
             0,
             "#0d0887"
            ],
            [
             0.1111111111111111,
             "#46039f"
            ],
            [
             0.2222222222222222,
             "#7201a8"
            ],
            [
             0.3333333333333333,
             "#9c179e"
            ],
            [
             0.4444444444444444,
             "#bd3786"
            ],
            [
             0.5555555555555556,
             "#d8576b"
            ],
            [
             0.6666666666666666,
             "#ed7953"
            ],
            [
             0.7777777777777778,
             "#fb9f3a"
            ],
            [
             0.8888888888888888,
             "#fdca26"
            ],
            [
             1,
             "#f0f921"
            ]
           ]
          },
          "colorway": [
           "#636efa",
           "#EF553B",
           "#00cc96",
           "#ab63fa",
           "#FFA15A",
           "#19d3f3",
           "#FF6692",
           "#B6E880",
           "#FF97FF",
           "#FECB52"
          ],
          "font": {
           "color": "#2a3f5f"
          },
          "geo": {
           "bgcolor": "white",
           "lakecolor": "white",
           "landcolor": "#E5ECF6",
           "showlakes": true,
           "showland": true,
           "subunitcolor": "white"
          },
          "hoverlabel": {
           "align": "left"
          },
          "hovermode": "closest",
          "mapbox": {
           "style": "light"
          },
          "paper_bgcolor": "white",
          "plot_bgcolor": "#E5ECF6",
          "polar": {
           "angularaxis": {
            "gridcolor": "white",
            "linecolor": "white",
            "ticks": ""
           },
           "bgcolor": "#E5ECF6",
           "radialaxis": {
            "gridcolor": "white",
            "linecolor": "white",
            "ticks": ""
           }
          },
          "scene": {
           "xaxis": {
            "backgroundcolor": "#E5ECF6",
            "gridcolor": "white",
            "gridwidth": 2,
            "linecolor": "white",
            "showbackground": true,
            "ticks": "",
            "zerolinecolor": "white"
           },
           "yaxis": {
            "backgroundcolor": "#E5ECF6",
            "gridcolor": "white",
            "gridwidth": 2,
            "linecolor": "white",
            "showbackground": true,
            "ticks": "",
            "zerolinecolor": "white"
           },
           "zaxis": {
            "backgroundcolor": "#E5ECF6",
            "gridcolor": "white",
            "gridwidth": 2,
            "linecolor": "white",
            "showbackground": true,
            "ticks": "",
            "zerolinecolor": "white"
           }
          },
          "shapedefaults": {
           "line": {
            "color": "#2a3f5f"
           }
          },
          "ternary": {
           "aaxis": {
            "gridcolor": "white",
            "linecolor": "white",
            "ticks": ""
           },
           "baxis": {
            "gridcolor": "white",
            "linecolor": "white",
            "ticks": ""
           },
           "bgcolor": "#E5ECF6",
           "caxis": {
            "gridcolor": "white",
            "linecolor": "white",
            "ticks": ""
           }
          },
          "title": {
           "x": 0.05
          },
          "xaxis": {
           "automargin": true,
           "gridcolor": "white",
           "linecolor": "white",
           "ticks": "",
           "title": {
            "standoff": 15
           },
           "zerolinecolor": "white",
           "zerolinewidth": 2
          },
          "yaxis": {
           "automargin": true,
           "gridcolor": "white",
           "linecolor": "white",
           "ticks": "",
           "title": {
            "standoff": 15
           },
           "zerolinecolor": "white",
           "zerolinewidth": 2
          }
         }
        },
        "title": {
         "text": "Alle Sectoren in Vlaanderen: Voor vs Na Treatment"
        },
        "width": 1000,
        "xaxis": {
         "anchor": "y",
         "domain": [
          0,
          1
         ],
         "title": {
          "text": "Aantal oprichtingen"
         }
        },
        "yaxis": {
         "anchor": "x",
         "categoryarray": [
          "M",
          "F",
          "G",
          "N",
          "S",
          "Q",
          "J",
          "I",
          "C",
          "R",
          "P",
          "L",
          "H",
          "A",
          "K",
          "D",
          "E",
          "Onbekende",
          "O",
          "T",
          "B",
          "U"
         ],
         "categoryorder": "array",
         "domain": [
          0,
          1
         ],
         "title": {
          "text": "Sector_kort"
         }
        }
       }
      }
     },
     "metadata": {},
     "output_type": "display_data"
    }
   ],
   "source": [
    "# 📊 ALTERNATIEVE VISUALISATIE: Sectoren in perspectief\n",
    "print(\"📊 SECTOREN IN PERSPECTIEF - Vlaanderen\")\n",
    "print(\"=\" * 45)\n",
    "\n",
    "# Maak een vergelijking van alle sectoren in Vlaanderen\n",
    "vlaanderen_sectoren = df_did[df_did['Gewest'] == 'Vlaams Gewest'].groupby('Sectie')[OUTCOME_VARIABLE].mean().sort_values(ascending=False)\n",
    "\n",
    "# Toon top 10 sectoren\n",
    "print(\"🏆 TOP 10 SECTOREN in Vlaanderen (gemiddeld aantal oprichtingen):\")\n",
    "print(\"-\" * 60)\n",
    "for i, (sector, oprichtingen) in enumerate(vlaanderen_sectoren.head(10).items(), 1):\n",
    "    is_bouw = \"🏗️\" if \"F Bouwnijverheid\" in sector else \"🏢\"\n",
    "    sector_kort = sector.split(' ')[0] + \" \" + sector.split(' ')[1] if len(sector.split(' ')) > 1 else sector\n",
    "    print(f\"{i:2d}. {is_bouw} {sector_kort:<25}: {oprichtingen:>7.0f} oprichtingen\")\n",
    "\n",
    "print(f\"\\n💡 BELANGRIJKE INZICHTEN:\")\n",
    "print(\"-\" * 25)\n",
    "bouw_rang = list(vlaanderen_sectoren.index).index('F Bouwnijverheid') + 1\n",
    "print(f\"• Bouwsector staat op plaats {bouw_rang} van {len(vlaanderen_sectoren)} sectoren\")\n",
    "print(f\"• Bouw is inderdaad een grote sector, maar niet de grootste\")\n",
    "print(f\"• De grafiek toont GEMIDDELDES per groep, niet totalen\")\n",
    "\n",
    "# Maak een nieuwe grafiek die dit beter toont\n",
    "import plotly.express as px\n",
    "\n",
    "# Data voor betere visualisatie\n",
    "vl_voor_na = df_did[df_did['Gewest'] == 'Vlaams Gewest'].groupby(['Sectie', 'post_treatment'])[OUTCOME_VARIABLE].mean().reset_index()\n",
    "vl_voor_na['Periode'] = vl_voor_na['post_treatment'].map({0: 'Voor (2015-2018)', 1: 'Na (2019-2022)'})\n",
    "vl_voor_na['Sector_kort'] = vl_voor_na['Sectie'].str.split(' ').str[0]\n",
    "vl_voor_na['Is_Bouw'] = vl_voor_na['Sectie'].str.contains('F Bouwnijverheid')\n",
    "\n",
    "# Sorteer op gemiddelde waarde\n",
    "sector_order = vl_voor_na.groupby('Sector_kort')[OUTCOME_VARIABLE].mean().sort_values(ascending=True).index\n",
    "\n",
    "fig_sectors = px.bar(vl_voor_na, \n",
    "                    x=OUTCOME_VARIABLE, \n",
    "                    y='Sector_kort',\n",
    "                    color='Periode',\n",
    "                    title='Alle Sectoren in Vlaanderen: Voor vs Na Treatment',\n",
    "                    orientation='h',\n",
    "                    category_orders={'Sector_kort': sector_order},\n",
    "                    color_discrete_map={'Voor (2015-2018)': 'lightblue', 'Na (2019-2022)': 'darkblue'})\n",
    "\n",
    "# Highlight bouwsector\n",
    "fig_sectors.update_layout(height=800, width=1000)\n",
    "fig_sectors.add_annotation(\n",
    "    x=8000, y='F',\n",
    "    text=\"🏗️ TREATMENT SECTOR\",\n",
    "    showarrow=True,\n",
    "    arrowhead=2,\n",
    "    arrowcolor=\"red\",\n",
    "    arrowwidth=2,\n",
    "    font=dict(size=14, color=\"red\")\n",
    ")\n",
    "\n",
    "fig_sectors.show()"
   ]
  },
  {
   "cell_type": "markdown",
   "id": "83e0144b",
   "metadata": {},
   "source": [
    "## 7. Statistische Testing en Robuustheid"
   ]
  },
  {
   "cell_type": "code",
   "execution_count": 88,
   "id": "4a09a415",
   "metadata": {},
   "outputs": [
    {
     "name": "stdout",
     "output_type": "stream",
     "text": [
      "Parallel Trends Test (Pre-treatment periode):\n",
      "                             OLS Regression Results                            \n",
      "===============================================================================\n",
      "Dep. Variable:     Aantal oprichtingen   R-squared:                       0.097\n",
      "Model:                             OLS   Adj. R-squared:                  0.087\n",
      "Method:                  Least Squares   F-statistic:                     9.246\n",
      "Date:                 Fri, 22 Aug 2025   Prob (F-statistic):           7.90e-06\n",
      "Time:                         11:39:25   Log-Likelihood:                -2333.9\n",
      "No. Observations:                  261   AIC:                             4676.\n",
      "Df Residuals:                      257   BIC:                             4690.\n",
      "Df Model:                            3                                         \n",
      "Covariance Type:             nonrobust                                         \n",
      "====================================================================================\n",
      "                       coef    std err          t      P>|t|      [0.025      0.975]\n",
      "------------------------------------------------------------------------------------\n",
      "const            -1.519e+05   2.09e+05     -0.725      0.469   -5.64e+05    2.61e+05\n",
      "Jaar                75.9389    103.891      0.731      0.465    -128.648     280.525\n",
      "treatment_group  -8.321e+05   1.69e+06     -0.491      0.624   -4.17e+06    2.51e+06\n",
      "Jaar_x_treatment   415.0611    840.481      0.494      0.622   -1240.046    2070.168\n",
      "==============================================================================\n",
      "Omnibus:                      180.173   Durbin-Watson:                   1.521\n",
      "Prob(Omnibus):                  0.000   Jarque-Bera (JB):             1467.629\n",
      "Skew:                           2.819   Prob(JB):                         0.00\n",
      "Kurtosis:                      13.157   Cond. No.                     2.96e+07\n",
      "==============================================================================\n",
      "\n",
      "Notes:\n",
      "[1] Standard Errors assume that the covariance matrix of the errors is correctly specified.\n",
      "[2] The condition number is large, 2.96e+07. This might indicate that there are\n",
      "strong multicollinearity or other numerical problems.\n",
      "\n",
      "Parallel Trends Test:\n",
      "Interactie coëfficiënt (Jaar x Treatment): 415.0611\n",
      "P-waarde: 0.6218\n",
      "Parallel trends assumptie: VOLDAAN\n",
      "(p > 0.05 betekent dat trends parallel zijn)\n"
     ]
    }
   ],
   "source": [
    "# Parallel trends assumptie test\n",
    "# Test of de trends in de pre-treatment periode parallel zijn\n",
    "\n",
    "pre_treatment_data = df_did[df_did['post_treatment'] == 0]\n",
    "\n",
    "# Test voor parallel trends met lineaire tijd trend\n",
    "# Gebruik OLS in plaats van formula om kolom naam problemen te vermijden\n",
    "import statsmodels.api as sm\n",
    "\n",
    "# Maak design matrix voor parallel trends test\n",
    "X_parallel = pre_treatment_data[['Jaar', 'treatment_group']].copy()\n",
    "X_parallel['Jaar_x_treatment'] = X_parallel['Jaar'] * X_parallel['treatment_group']\n",
    "X_parallel = sm.add_constant(X_parallel)\n",
    "y_parallel = pre_treatment_data[OUTCOME_VARIABLE]\n",
    "\n",
    "# Fit parallel trends model\n",
    "parallel_model = sm.OLS(y_parallel, X_parallel).fit()\n",
    "\n",
    "print(\"Parallel Trends Test (Pre-treatment periode):\")\n",
    "print(parallel_model.summary())\n",
    "\n",
    "# Test statistiek voor parallel trends\n",
    "interaction_coef = parallel_model.params.get('Jaar_x_treatment', 0)\n",
    "interaction_pvalue = parallel_model.pvalues.get('Jaar_x_treatment', 1)\n",
    "\n",
    "print(f\"\\nParallel Trends Test:\")\n",
    "print(f\"Interactie coëfficiënt (Jaar x Treatment): {interaction_coef:.4f}\")\n",
    "print(f\"P-waarde: {interaction_pvalue:.4f}\")\n",
    "print(f\"Parallel trends assumptie: {'VOLDAAN' if interaction_pvalue > 0.05 else 'GESCHONDEN'}\")\n",
    "print(f\"(p > 0.05 betekent dat trends parallel zijn)\")"
   ]
  },
  {
   "cell_type": "code",
   "execution_count": 89,
   "id": "46fd25ac",
   "metadata": {},
   "outputs": [
    {
     "name": "stdout",
     "output_type": "stream",
     "text": [
      "Robuustheid Analyse - Verschillende Tijdvensters:\n",
      "==================================================\n",
      "Cutoff jaar 2018: DiD Effect = 4408.61, p-waarde = 0.0060\n",
      "Cutoff jaar 2019: DiD Effect = 4992.62, p-waarde = 0.0013\n",
      "Cutoff jaar 2020: DiD Effect = 4724.06, p-waarde = 0.0032\n",
      "\n",
      "Robuustheid samenvatting:\n",
      "   cutoff_year   did_effect   p_value  significant\n",
      "0         2018  4408.606701  0.006002         True\n",
      "1         2019  4992.624199  0.001286         True\n",
      "2         2020  4724.058544  0.003211         True\n",
      "Cutoff jaar 2020: DiD Effect = 4724.06, p-waarde = 0.0032\n",
      "\n",
      "Robuustheid samenvatting:\n",
      "   cutoff_year   did_effect   p_value  significant\n",
      "0         2018  4408.606701  0.006002         True\n",
      "1         2019  4992.624199  0.001286         True\n",
      "2         2020  4724.058544  0.003211         True\n"
     ]
    }
   ],
   "source": [
    "# Robuustheid test: verschillende tijdvensters\n",
    "print(\"Robuustheid Analyse - Verschillende Tijdvensters:\")\n",
    "print(\"=\" * 50)\n",
    "\n",
    "# Test verschillende cut-off jaren\n",
    "cutoff_years = [2018, 2019, 2020]\n",
    "robustness_results = []\n",
    "\n",
    "for cutoff in cutoff_years:\n",
    "    df_temp = df_did.copy()\n",
    "    df_temp['post_alt'] = (df_temp['Jaar'] >= cutoff).astype(int)\n",
    "    df_temp['post_x_treatment_alt'] = df_temp['post_alt'] * df_temp['treatment_group']\n",
    "    \n",
    "    # Gebruik OLS in plaats van formula\n",
    "    X_rob = df_temp[['post_alt', 'treatment_group', 'post_x_treatment_alt']]\n",
    "    X_rob = sm.add_constant(X_rob)\n",
    "    y_rob = df_temp[OUTCOME_VARIABLE]\n",
    "    \n",
    "    model_alt = sm.OLS(y_rob, X_rob).fit()\n",
    "    \n",
    "    coef = model_alt.params['post_x_treatment_alt']\n",
    "    pval = model_alt.pvalues['post_x_treatment_alt']\n",
    "    \n",
    "    robustness_results.append({\n",
    "        'cutoff_year': cutoff,\n",
    "        'did_effect': coef,\n",
    "        'p_value': pval,\n",
    "        'significant': pval < 0.05\n",
    "    })\n",
    "    \n",
    "    print(f\"Cutoff jaar {cutoff}: DiD Effect = {coef:.2f}, p-waarde = {pval:.4f}\")\n",
    "\n",
    "robustness_df = pd.DataFrame(robustness_results)\n",
    "print(f\"\\nRobuustheid samenvatting:\")\n",
    "print(robustness_df)"
   ]
  },
  {
   "cell_type": "code",
   "execution_count": 90,
   "id": "418244c1",
   "metadata": {},
   "outputs": [
    {
     "name": "stdout",
     "output_type": "stream",
     "text": [
      "============================================================\n",
      "FINALE DiD ANALYSE RESULTATEN\n",
      "============================================================\n",
      "\n",
      "📊 TREATMENT DEFINITIE:\n",
      "   • Jaar: 2019\n",
      "   • Regio: Vlaams Gewest\n",
      "   • Sector: F Bouwnijverheid\n",
      "   • Outcome: Aantal oprichtingen\n",
      "\n",
      "📈 HOOFD RESULTATEN:\n",
      "   • DiD Effect: 4992.62 oprichtingen\n",
      "   • Percentage effect: 81.27%\n",
      "   • P-waarde: 0.0013\n",
      "   • 95% CI: [1962.40, 8022.85]\n",
      "   • Significantie: **\n",
      "\n",
      "🔍 ASSUMPTIE CHECKS:\n",
      "   • Parallel trends: ✅ VOLDAAN (p=0.6218)\n",
      "   • Robuustheid: ✅ CONSISTENT over verschillende cutoffs\n",
      "\n",
      "💡 CONCLUSIE:\n",
      "   Er is een statistisch significant positief effect van de treatment\n",
      "   op het aantal oprichtingen in de bouwsector in Vlaanderen.\n",
      "\n",
      "============================================================\n"
     ]
    }
   ],
   "source": [
    "# Finale samenvatting van resultaten\n",
    "print(\"=\"*60)\n",
    "print(\"FINALE DiD ANALYSE RESULTATEN\")\n",
    "print(\"=\"*60)\n",
    "\n",
    "print(f\"\\n📊 TREATMENT DEFINITIE:\")\n",
    "print(f\"   • Jaar: {TREATMENT_YEAR}\")\n",
    "print(f\"   • Regio: {TREATMENT_REGION}\")\n",
    "print(f\"   • Sector: {TREATMENT_SECTOR}\")\n",
    "print(f\"   • Outcome: {OUTCOME_VARIABLE}\")\n",
    "\n",
    "print(f\"\\n📈 HOOFD RESULTATEN:\")\n",
    "print(f\"   • DiD Effect: {did_coefficient:.2f} oprichtingen\")\n",
    "print(f\"   • Percentage effect: {percentage_effect:.2f}%\")\n",
    "print(f\"   • P-waarde: {did_pvalue:.4f}\")\n",
    "print(f\"   • 95% CI: [{did_ci[0]:.2f}, {did_ci[1]:.2f}]\")\n",
    "print(f\"   • Significantie: {'***' if did_pvalue < 0.001 else '**' if did_pvalue < 0.01 else '*' if did_pvalue < 0.05 else 'Niet significant'}\")\n",
    "\n",
    "print(f\"\\n🔍 ASSUMPTIE CHECKS:\")\n",
    "print(f\"   • Parallel trends: {'✅ VOLDAAN' if interaction_pvalue > 0.05 else '❌ GESCHONDEN'} (p={interaction_pvalue:.4f})\")\n",
    "\n",
    "consistent_sign = all(r['did_effect'] > 0 for r in robustness_results) or all(r['did_effect'] < 0 for r in robustness_results)\n",
    "print(f\"   • Robuustheid: {'✅ CONSISTENT' if consistent_sign else '❌ INCONSISTENT'} over verschillende cutoffs\")\n",
    "\n",
    "print(f\"\\n💡 CONCLUSIE:\")\n",
    "if did_pvalue < 0.05:\n",
    "    direction = \"positief\" if did_coefficient > 0 else \"negatief\"\n",
    "    print(f\"   Er is een statistisch significant {direction} effect van de treatment\")\n",
    "    print(f\"   op het aantal oprichtingen in de bouwsector in Vlaanderen.\")\n",
    "else:\n",
    "    print(f\"   Er is geen statistisch significant effect gevonden van de treatment.\")\n",
    "\n",
    "print(\"\\n\" + \"=\"*60)"
   ]
  },
  {
   "cell_type": "markdown",
   "id": "8921cd2c",
   "metadata": {},
   "source": [
    "## 📋 Belangrijkste Bevindingen en Verbeteringen\n",
    "\n",
    "### 🔍 **Methodologische Verbeteringen:**\n",
    "- **Uitgebreide controle groep**: Gebruikt nu alle 21 sectoren (behalve bouw) als controle in plaats van slechts 3 sectoren\n",
    "- **Grotere steekproef**: 525 observaties vs. kleinere dataset in eerdere versie\n",
    "- **Robuustere vergelijking**: Bouwsector vs. hele economie geeft betere baseline\n",
    "\n",
    "### 📊 **Sterke Empirische Resultaten:**\n",
    "- **Zeer significant effect**: p-waarde = 0.0013 (α < 0.01)\n",
    "- **Groot effect**: +4,993 extra oprichtingen (+81% t.o.v. baseline)\n",
    "- **Robuust**: Effect blijft significant over verschillende tijdvensters (2018-2020)\n",
    "- **Valide assumptie**: Parallel trends assumptie wordt niet geschonden (p = 0.6218)\n",
    "\n",
    "### 🎯 **Economische Interpretatie:**\n",
    "1. **Treatment effect**: De bouwsector in Vlaanderen laat vanaf 2019 een substantiële toename zien in bedrijfsoprichtingen\n",
    "2. **Relatieve prestatie**: Dit effect is veel groter dan de algemene economische trends in andere sectoren\n",
    "3. **Regionale specificiteit**: Het effect is specifiek voor Vlaanderen vs. andere gewesten\n",
    "\n",
    "### ⚠️ **Kanttekeningen:**\n",
    "- Analyse toont correlatie, niet noodzakelijk causatie\n",
    "- Mogelijke confounding factors niet gecontroleerd (economische conjunctuur, beleid, etc.)\n",
    "- Kleine sample size voor treatment groep (4 observaties voor + 4 na)\n",
    "\n",
    "### 🔮 **Vervolgonderzoek:**\n",
    "- Onderzoek naar mogelijke verklarende mechanismen\n",
    "- Analyse van andere outcome variabelen (aantal schrappingen, btw-plichtigen)\n",
    "- Uitbreiding naar maandcijfers voor meer granulariteit"
   ]
  }
 ],
 "metadata": {
  "kernelspec": {
   "display_name": ".venv",
   "language": "python",
   "name": "python3"
  },
  "language_info": {
   "codemirror_mode": {
    "name": "ipython",
    "version": 3
   },
   "file_extension": ".py",
   "mimetype": "text/x-python",
   "name": "python",
   "nbconvert_exporter": "python",
   "pygments_lexer": "ipython3",
   "version": "3.13.3"
  }
 },
 "nbformat": 4,
 "nbformat_minor": 5
}
